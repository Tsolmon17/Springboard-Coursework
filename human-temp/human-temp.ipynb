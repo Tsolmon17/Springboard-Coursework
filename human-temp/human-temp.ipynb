{
 "cells": [
  {
   "cell_type": "markdown",
   "metadata": {},
   "source": [
    "# What is the True Normal Human Body Temperature? \n",
    "\n",
    "#### Background\n",
    "\n",
    "The mean normal body temperature was held to be 37$^{\\circ}$C or 98.6$^{\\circ}$F for more than 120 years since it was first conceptualized and reported by Carl Wunderlich in a famous 1868 book. But, is this value statistically correct?"
   ]
  },
  {
   "cell_type": "markdown",
   "metadata": {},
   "source": [
    "<h3>Exercises</h3>\n",
    "\n",
    "<p>In this exercise, you will analyze a dataset of human body temperatures and employ the concepts of hypothesis testing, confidence intervals, and statistical significance.</p>\n",
    "\n",
    "<p>Answer the following questions <b>in this notebook below and submit to your Github account</b>.</p> \n",
    "\n",
    "<ol>\n",
    "<li>  Is the distribution of body temperatures normal? \n",
    "    <ul>\n",
    "    <li> Although this is not a requirement for CLT to hold (read CLT carefully), it gives us some peace of mind that the population may also be normally distributed if we assume that this sample is representative of the population.\n",
    "    </ul>\n",
    "<li>  Is the sample size large? Are the observations independent?\n",
    "    <ul>\n",
    "    <li> Remember that this is a condition for the CLT, and hence the statistical tests we are using, to apply.\n",
    "    </ul>\n",
    "<li>  Is the true population mean really 98.6 degrees F?\n",
    "    <ul>\n",
    "    <li> Would you use a one-sample or two-sample test? Why?\n",
    "    <li> In this situation, is it appropriate to use the $t$ or $z$ statistic? \n",
    "    <li> Now try using the other test. How is the result be different? Why?\n",
    "    </ul>\n",
    "<li>  Draw a small sample of size 10 from the data and repeat both tests. \n",
    "    <ul>\n",
    "    <li> Which one is the correct one to use? \n",
    "    <li> What do you notice? What does this tell you about the difference in application of the $t$ and $z$ statistic?\n",
    "    </ul>\n",
    "<li>  At what temperature should we consider someone's temperature to be \"abnormal\"?\n",
    "    <ul>\n",
    "    <li> Start by computing the margin of error and confidence interval.\n",
    "    </ul>\n",
    "<li>  Is there a significant difference between males and females in normal temperature?\n",
    "    <ul>\n",
    "    <li> What test did you use and why?\n",
    "    <li> Write a story with your conclusion in the context of the original problem.\n",
    "    </ul>\n",
    "</ol>\n",
    "\n",
    "You can include written notes in notebook cells using Markdown: \n",
    "   - In the control panel at the top, choose Cell > Cell Type > Markdown\n",
    "   - Markdown syntax: http://nestacms.com/docs/creating-content/markdown-cheat-sheet\n",
    "\n",
    "#### Resources\n",
    "\n",
    "+ Information and data sources: http://www.amstat.org/publications/jse/datasets/normtemp.txt, http://www.amstat.org/publications/jse/jse_data_archive.htm\n",
    "+ Markdown syntax: http://nestacms.com/docs/creating-content/markdown-cheat-sheet\n",
    "\n",
    "****"
   ]
  },
  {
   "cell_type": "code",
<<<<<<< HEAD
   "execution_count": 32,
=======
   "execution_count": 49,
>>>>>>> a6f0ba11fa4652acad0b11c9018f36edd41d65bd
   "metadata": {
    "collapsed": true
   },
   "outputs": [],
   "source": [
    "import pandas as pd\n",
    "\n",
    "df = pd.read_csv('data/human_body_temperature.csv')"
   ]
  },
  {
   "cell_type": "code",
<<<<<<< HEAD
   "execution_count": 33,
=======
   "execution_count": 50,
>>>>>>> a6f0ba11fa4652acad0b11c9018f36edd41d65bd
   "metadata": {
    "collapsed": true
   },
   "outputs": [],
   "source": [
    "# Your work here.\n",
    "\n",
    "# Import plotting modules\n",
    "import numpy as np\n",
    "import matplotlib.pyplot as plt\n",
    "import seaborn as sns"
   ]
  },
  {
   "cell_type": "code",
<<<<<<< HEAD
   "execution_count": 34,
=======
   "execution_count": 51,
>>>>>>> a6f0ba11fa4652acad0b11c9018f36edd41d65bd
   "metadata": {},
   "outputs": [
    {
     "data": {
      "text/html": [
       "<div>\n",
       "<style>\n",
       "    .dataframe thead tr:only-child th {\n",
       "        text-align: right;\n",
       "    }\n",
       "\n",
       "    .dataframe thead th {\n",
       "        text-align: left;\n",
       "    }\n",
       "\n",
       "    .dataframe tbody tr th {\n",
       "        vertical-align: top;\n",
       "    }\n",
       "</style>\n",
       "<table border=\"1\" class=\"dataframe\">\n",
       "  <thead>\n",
       "    <tr style=\"text-align: right;\">\n",
       "      <th></th>\n",
       "      <th>temperature</th>\n",
       "      <th>gender</th>\n",
       "      <th>heart_rate</th>\n",
       "    </tr>\n",
       "  </thead>\n",
       "  <tbody>\n",
       "    <tr>\n",
       "      <th>0</th>\n",
       "      <td>99.3</td>\n",
       "      <td>F</td>\n",
       "      <td>68.0</td>\n",
       "    </tr>\n",
       "    <tr>\n",
       "      <th>1</th>\n",
       "      <td>98.4</td>\n",
       "      <td>F</td>\n",
       "      <td>81.0</td>\n",
       "    </tr>\n",
       "    <tr>\n",
       "      <th>2</th>\n",
       "      <td>97.8</td>\n",
       "      <td>M</td>\n",
       "      <td>73.0</td>\n",
       "    </tr>\n",
       "    <tr>\n",
       "      <th>3</th>\n",
       "      <td>99.2</td>\n",
       "      <td>F</td>\n",
       "      <td>66.0</td>\n",
       "    </tr>\n",
       "    <tr>\n",
       "      <th>4</th>\n",
       "      <td>98.0</td>\n",
       "      <td>F</td>\n",
       "      <td>73.0</td>\n",
       "    </tr>\n",
       "  </tbody>\n",
       "</table>\n",
       "</div>"
      ],
      "text/plain": [
       "   temperature gender  heart_rate\n",
       "0         99.3      F        68.0\n",
       "1         98.4      F        81.0\n",
       "2         97.8      M        73.0\n",
       "3         99.2      F        66.0\n",
       "4         98.0      F        73.0"
      ]
     },
<<<<<<< HEAD
     "execution_count": 34,
=======
     "execution_count": 51,
>>>>>>> a6f0ba11fa4652acad0b11c9018f36edd41d65bd
     "metadata": {},
     "output_type": "execute_result"
    }
   ],
   "source": [
    "df.head()"
   ]
  },
  {
   "cell_type": "markdown",
   "metadata": {},
   "source": [
    "1. Is the distribution of body temperatures normal?\n",
    "-\n",
    "Although this is not a requirement for CLT to hold (read CLT carefully), it gives us some peace of mind that the population may also be normally distributed if we assume that this sample is representative of the population."
   ]
  },
  {
   "cell_type": "markdown",
   "metadata": {},
   "source": [
    "# Answer 1"
   ]
  },
  {
   "cell_type": "markdown",
   "metadata": {},
   "source": [
    "Assuming Null Hypothesis is true, I'm performing a bootstrap hypothesis test below."
   ]
  },
  {
   "cell_type": "code",
<<<<<<< HEAD
   "execution_count": 35,
=======
   "execution_count": 52,
>>>>>>> a6f0ba11fa4652acad0b11c9018f36edd41d65bd
   "metadata": {
    "collapsed": true
   },
   "outputs": [],
   "source": [
    "# body temp variable\n",
    "temp = df['temperature']"
   ]
  },
  {
   "cell_type": "code",
<<<<<<< HEAD
   "execution_count": 36,
=======
   "execution_count": 53,
>>>>>>> a6f0ba11fa4652acad0b11c9018f36edd41d65bd
   "metadata": {
    "collapsed": true
   },
   "outputs": [],
   "source": [
    "# Compute mean and standard deviation: mu, sigma\n",
    "mu = np.mean(temp)\n",
    "sigma = np.std(temp)"
   ]
  },
  {
   "cell_type": "code",
<<<<<<< HEAD
   "execution_count": 37,
=======
   "execution_count": 54,
>>>>>>> a6f0ba11fa4652acad0b11c9018f36edd41d65bd
   "metadata": {},
   "outputs": [
    {
     "data": {
      "text/plain": [
       "0.7303577789050377"
      ]
     },
<<<<<<< HEAD
     "execution_count": 37,
=======
     "execution_count": 54,
>>>>>>> a6f0ba11fa4652acad0b11c9018f36edd41d65bd
     "metadata": {},
     "output_type": "execute_result"
    }
   ],
   "source": [
    "# mean of body temp\n",
    "sigma"
   ]
  },
  {
   "cell_type": "code",
<<<<<<< HEAD
   "execution_count": 38,
=======
   "execution_count": 55,
>>>>>>> a6f0ba11fa4652acad0b11c9018f36edd41d65bd
   "metadata": {},
   "outputs": [
    {
     "data": {
      "text/plain": [
       "98.24923076923078"
      ]
     },
<<<<<<< HEAD
     "execution_count": 38,
=======
     "execution_count": 55,
>>>>>>> a6f0ba11fa4652acad0b11c9018f36edd41d65bd
     "metadata": {},
     "output_type": "execute_result"
    }
   ],
   "source": [
    "# std of body temp\n",
    "mu"
   ]
  },
  {
   "cell_type": "code",
<<<<<<< HEAD
   "execution_count": 39,
=======
   "execution_count": 56,
>>>>>>> a6f0ba11fa4652acad0b11c9018f36edd41d65bd
   "metadata": {
    "collapsed": true
   },
   "outputs": [],
   "source": [
    "# Sample out of a normal distribution with mu and sigma: samples\n",
    "samples = np.random.normal(mu, sigma, size=10000)"
   ]
  },
  {
   "cell_type": "code",
<<<<<<< HEAD
   "execution_count": 40,
=======
   "execution_count": 57,
>>>>>>> a6f0ba11fa4652acad0b11c9018f36edd41d65bd
   "metadata": {
    "collapsed": true
   },
   "outputs": [],
   "source": [
    "def ecdf(data):\n",
    "    \"\"\"Compute ECDF for a one-dimensional array of measurements.\"\"\"\n",
    "\n",
    "    # Number of data points: n\n",
    "    n = len(data)\n",
    "\n",
    "    # x-data for the ECDF: x\n",
    "    x = np.sort(data)\n",
    "\n",
    "    # y-data for the ECDF: y\n",
    "    y = np.arange(1, n+1) / n\n",
    "\n",
    "    return x, y"
   ]
  },
  {
   "cell_type": "code",
<<<<<<< HEAD
   "execution_count": 41,
=======
   "execution_count": 58,
>>>>>>> a6f0ba11fa4652acad0b11c9018f36edd41d65bd
   "metadata": {
    "collapsed": true
   },
   "outputs": [],
   "source": [
    "# Get the CDF of the samples and of the data\n",
    "x_theor, y_theor = ecdf(samples)\n",
    "x, y = ecdf(temp)"
   ]
  },
  {
   "cell_type": "code",
<<<<<<< HEAD
   "execution_count": 42,
=======
   "execution_count": 59,
>>>>>>> a6f0ba11fa4652acad0b11c9018f36edd41d65bd
   "metadata": {},
   "outputs": [
    {
     "data": {
<<<<<<< HEAD
      "image/png": "iVBORw0KGgoAAAANSUhEUgAAAe8AAAFXCAYAAACLEMbVAAAABHNCSVQICAgIfAhkiAAAAAlwSFlz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\nREQSzP8HU4L9FvynTJMAAAAASUVORK5CYII=\n",
      "text/plain": [
       "<matplotlib.figure.Figure at 0xaa6a0f0>"
=======
      "image/png": "iVBORw0KGgoAAAANSUhEUgAAAe8AAAFXCAYAAACLEMbVAAAABHNCSVQICAgIfAhkiAAAAAlwSFlz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\nSUbhLSIikmQU3iIiIknm/wcVN6JaQuIl/wAAAABJRU5ErkJggg==\n",
      "text/plain": [
       "<matplotlib.figure.Figure at 0xc11edd8>"
>>>>>>> a6f0ba11fa4652acad0b11c9018f36edd41d65bd
      ]
     },
     "metadata": {},
     "output_type": "display_data"
    }
   ],
   "source": [
    "# Plot the CDFs and show the plot\n",
    "_ = plt.plot(x_theor, y_theor)\n",
    "_ = plt.plot(x, y, marker='.', linestyle='none')\n",
    "plt.margins(0.02)\n",
    "_ = plt.xlabel('Body temperature (F)')\n",
    "_ = plt.ylabel('CDF')\n",
    "plt.show()"
   ]
  },
  {
   "cell_type": "markdown",
   "metadata": {},
   "source": [
    "The theoretical CDF and the ECDF of the data suggest that the body temperatures are, indeed, Normally distributed. "
   ]
  },
  {
   "cell_type": "markdown",
   "metadata": {},
   "source": [
    "# Answer 2"
   ]
  },
  {
   "cell_type": "markdown",
   "metadata": {},
   "source": [
    "Is the sample size large? Are the observations independent?\n",
    "\n",
    "Remember that this is a condition for the CLT, and hence the statistical tests we are using, to apply."
   ]
  },
  {
   "cell_type": "code",
<<<<<<< HEAD
   "execution_count": 43,
=======
   "execution_count": 60,
>>>>>>> a6f0ba11fa4652acad0b11c9018f36edd41d65bd
   "metadata": {},
   "outputs": [
    {
     "name": "stdout",
     "output_type": "stream",
     "text": [
      "<class 'pandas.core.frame.DataFrame'>\n",
      "RangeIndex: 130 entries, 0 to 129\n",
      "Data columns (total 3 columns):\n",
      "temperature    130 non-null float64\n",
      "gender         130 non-null object\n",
      "heart_rate     130 non-null float64\n",
      "dtypes: float64(2), object(1)\n",
      "memory usage: 3.1+ KB\n"
     ]
    }
   ],
   "source": [
    "df.info()"
   ]
  },
  {
   "cell_type": "code",
<<<<<<< HEAD
   "execution_count": 44,
=======
   "execution_count": 61,
>>>>>>> a6f0ba11fa4652acad0b11c9018f36edd41d65bd
   "metadata": {},
   "outputs": [
    {
     "data": {
      "text/plain": [
       "98.24923076923078"
      ]
     },
<<<<<<< HEAD
     "execution_count": 44,
=======
     "execution_count": 61,
>>>>>>> a6f0ba11fa4652acad0b11c9018f36edd41d65bd
     "metadata": {},
     "output_type": "execute_result"
    }
   ],
   "source": [
    "# sample mean\n",
    "mu"
   ]
  },
  {
   "cell_type": "markdown",
   "metadata": {},
   "source": [
    "Is the sample size large? \n",
    "\n",
    "Yes.\n",
    "The sample mean of 98.25 F is very close to the population mean of 98.6 F.\n",
    "Also, the sample is normally distributed as demonstrated above.\n",
    "As a general rule, sample sizes equal to or greater than 30 are considered sufficient for the central limit theorem to hold (according to http://www.investopedia.com/terms/c/central_limit_theorem.asp)."
   ]
  },
  {
   "cell_type": "markdown",
   "metadata": {},
   "source": [
    "Are the observations independent?\n",
    "\n",
    "Yes. Based on the data set information (Information and data sources: http://www.amstat.org/publications/jse/datasets/normtemp.txt, http://www.amstat.org/publications/jse/jse_data_archive.htm), the observations should be independent."
   ]
  },
  {
   "cell_type": "markdown",
   "metadata": {},
   "source": [
    "# Answer 3\n",
    "Is the true population mean really 98.6 degrees F?\n",
    "    <ul>\n",
    "    <li> Would you use a one-sample or two-sample test? Why?\n",
    "    <li> In this situation, is it appropriate to use the $t$ or $z$ statistic? \n",
    "    <li> Now try using the other test. How is the result be different? Why?\n",
    "    </ul>"
   ]
  },
  {
   "cell_type": "markdown",
   "metadata": {},
   "source": [
    "In this situation, it's appropriate to use Z statistics."
   ]
  },
  {
   "cell_type": "code",
<<<<<<< HEAD
   "execution_count": 45,
=======
   "execution_count": 62,
>>>>>>> a6f0ba11fa4652acad0b11c9018f36edd41d65bd
   "metadata": {},
   "outputs": [
    {
     "data": {
      "text/plain": [
       "array([ 97.8,  98.3,  98.7])"
      ]
     },
<<<<<<< HEAD
     "execution_count": 45,
=======
     "execution_count": 62,
>>>>>>> a6f0ba11fa4652acad0b11c9018f36edd41d65bd
     "metadata": {},
     "output_type": "execute_result"
    }
   ],
   "source": [
    "np.percentile(temp, [25,50,75])"
   ]
  },
  {
   "cell_type": "markdown",
   "metadata": {},
   "source": [
    "Null Hypothesis -- The true mean temperature of our sample is actually population mean."
   ]
  },
  {
   "cell_type": "code",
<<<<<<< HEAD
   "execution_count": 46,
=======
   "execution_count": 130,
>>>>>>> a6f0ba11fa4652acad0b11c9018f36edd41d65bd
   "metadata": {
    "collapsed": true
   },
   "outputs": [],
   "source": [
    "# A one-sample bootstrap hypothesis test assuming null hypothesis is true\n",
    "\n",
<<<<<<< HEAD
    "def bootstrap_replicate_temp(data, func):\n",
    "    return func(np.random.choice(data, size=len(data)))\n",
    "\n",
=======
>>>>>>> a6f0ba11fa4652acad0b11c9018f36edd41d65bd
    "def draw_bs_reps(data, func, size=1):\n",
    "    \"\"\"Draw bootstrap replicates.\"\"\"\n",
    "\n",
    "    # Initialize array of replicates: bs_replicates\n",
    "    bs_replicates2 = np.empty(size)\n",
    "\n",
    "    # Generate replicates\n",
    "    for i in range(size):\n",
    "        bs_replicates2[i] = bootstrap_replicate_temp(temp, np.mean)\n",
    "\n",
    "    return bs_replicates2"
   ]
  },
  {
   "cell_type": "code",
<<<<<<< HEAD
   "execution_count": 47,
=======
   "execution_count": 137,
>>>>>>> a6f0ba11fa4652acad0b11c9018f36edd41d65bd
   "metadata": {},
   "outputs": [
    {
     "data": {
      "text/plain": [
       "-0.35076923076921673"
      ]
     },
<<<<<<< HEAD
     "execution_count": 47,
=======
     "execution_count": 137,
>>>>>>> a6f0ba11fa4652acad0b11c9018f36edd41d65bd
     "metadata": {},
     "output_type": "execute_result"
    }
   ],
   "source": [
    "# Make an array of shifted temperatures: shifted_temp\n",
    "shifted_temp = temp - np.mean(temp) + 98.6\n",
    "\n",
    "#calculating the test statistic\n",
    "\n",
    "def diff_from_pop(data, pop_mean=98.6):\n",
    "    return np.mean(data) - pop_mean\n",
    "\n",
    "diff_obs = diff_from_pop(temp)\n",
    "diff_obs"
   ]
  },
  {
   "cell_type": "code",
<<<<<<< HEAD
   "execution_count": 48,
=======
   "execution_count": 138,
>>>>>>> a6f0ba11fa4652acad0b11c9018f36edd41d65bd
   "metadata": {},
   "outputs": [
    {
     "name": "stdout",
     "output_type": "stream",
     "text": [
      "p =  0.0\n"
     ]
    }
   ],
   "source": [
    "# Take bootstrap replicates of shifted temps: bs_replicates3\n",
    "bs_replicates3 = draw_bs_reps(shifted_temp, diff_from_pop, 10000)\n",
    "\n",
    "# Compute fraction of replicates that are less than the observed temp: p\n",
    "p = np.sum(bs_replicates3 <= diff_obs) / 10000\n",
    "\n",
    "# Print the p-value\n",
    "print('p = ', p)"
   ]
  },
  {
   "cell_type": "markdown",
   "metadata": {
    "collapsed": true
   },
   "source": [
    "A small p-value (typically ≤ 0.05) indicates strong evidence against the null hypothesis, so we reject the null hypothesis. The true population mean does NOT seem to be 98.6F."
   ]
  },
  {
   "cell_type": "markdown",
   "metadata": {},
   "source": [
    "# Answer 4"
   ]
  },
  {
   "cell_type": "markdown",
   "metadata": {},
   "source": [
    "Draw a small sample of size 10 from the data and repeat both tests. \n",
    "    <ul>\n",
    "    <li> Which one is the correct one to use? \n",
    "    <li> What do you notice? What does this tell you about the difference in application of the $t$ and $z$ statistic?"
   ]
  },
  {
   "cell_type": "code",
<<<<<<< HEAD
   "execution_count": 49,
=======
   "execution_count": 79,
>>>>>>> a6f0ba11fa4652acad0b11c9018f36edd41d65bd
   "metadata": {
    "collapsed": true
   },
   "outputs": [],
   "source": [
    "# small sample size\n",
    "sm_sample = np.random.choice(temp, 10)"
   ]
  },
  {
   "cell_type": "markdown",
   "metadata": {},
   "source": [
    "Since our smaple size is 10 it's preferrable to use *T* statistic"
   ]
  },
  {
   "cell_type": "code",
<<<<<<< HEAD
   "execution_count": 50,
=======
   "execution_count": 80,
>>>>>>> a6f0ba11fa4652acad0b11c9018f36edd41d65bd
   "metadata": {},
   "outputs": [
    {
     "data": {
      "text/plain": [
<<<<<<< HEAD
       "array([ 98.8,  97.4,  98.6,  98.4,  98.6,  97.8,  97.2,  98.6,  97.1,  97.4])"
      ]
     },
     "execution_count": 50,
=======
       "array([ 97.8,  98. ,  98.6,  97.7,  99. ,  98.6,  98.7,  99.2,  97.4,  98.2])"
      ]
     },
     "execution_count": 80,
>>>>>>> a6f0ba11fa4652acad0b11c9018f36edd41d65bd
     "metadata": {},
     "output_type": "execute_result"
    }
   ],
   "source": [
    "sm_sample"
   ]
  },
  {
   "cell_type": "code",
<<<<<<< HEAD
   "execution_count": 51,
=======
   "execution_count": 81,
>>>>>>> a6f0ba11fa4652acad0b11c9018f36edd41d65bd
   "metadata": {},
   "outputs": [
    {
     "data": {
      "text/plain": [
<<<<<<< HEAD
       "97.989999999999995"
      ]
     },
     "execution_count": 51,
=======
       "98.320000000000007"
      ]
     },
     "execution_count": 81,
>>>>>>> a6f0ba11fa4652acad0b11c9018f36edd41d65bd
     "metadata": {},
     "output_type": "execute_result"
    }
   ],
   "source": [
    "np.mean(sm_sample)"
   ]
  },
  {
   "cell_type": "code",
<<<<<<< HEAD
   "execution_count": 52,
=======
   "execution_count": 82,
>>>>>>> a6f0ba11fa4652acad0b11c9018f36edd41d65bd
   "metadata": {},
   "outputs": [
    {
     "data": {
      "text/plain": [
<<<<<<< HEAD
       "98.099999999999994"
      ]
     },
     "execution_count": 52,
=======
       "98.400000000000006"
      ]
     },
     "execution_count": 82,
>>>>>>> a6f0ba11fa4652acad0b11c9018f36edd41d65bd
     "metadata": {},
     "output_type": "execute_result"
    }
   ],
   "source": [
    "np.median(sm_sample)"
   ]
  },
  {
   "cell_type": "code",
<<<<<<< HEAD
   "execution_count": 53,
=======
   "execution_count": 83,
>>>>>>> a6f0ba11fa4652acad0b11c9018f36edd41d65bd
   "metadata": {},
   "outputs": [
    {
     "data": {
      "text/plain": [
<<<<<<< HEAD
       "0.63945289114992454"
      ]
     },
     "execution_count": 53,
=======
       "0.56178287620752454"
      ]
     },
     "execution_count": 83,
>>>>>>> a6f0ba11fa4652acad0b11c9018f36edd41d65bd
     "metadata": {},
     "output_type": "execute_result"
    }
   ],
   "source": [
    "np.std(sm_sample)"
   ]
  },
  {
   "cell_type": "code",
<<<<<<< HEAD
   "execution_count": 54,
=======
   "execution_count": 84,
>>>>>>> a6f0ba11fa4652acad0b11c9018f36edd41d65bd
   "metadata": {
    "collapsed": true
   },
   "outputs": [],
   "source": [
    "permuted_sample = np.random.permutation(sm_sample)"
   ]
  },
  {
   "cell_type": "code",
<<<<<<< HEAD
   "execution_count": 55,
=======
   "execution_count": 85,
>>>>>>> a6f0ba11fa4652acad0b11c9018f36edd41d65bd
   "metadata": {
    "collapsed": true
   },
   "outputs": [],
   "source": [
    "from scipy import stats"
   ]
  },
  {
   "cell_type": "code",
<<<<<<< HEAD
   "execution_count": 56,
=======
   "execution_count": 86,
>>>>>>> a6f0ba11fa4652acad0b11c9018f36edd41d65bd
   "metadata": {},
   "outputs": [
    {
     "data": {
      "text/plain": [
<<<<<<< HEAD
       "Ttest_1sampResult(statistic=-2.8618214497538976, pvalue=0.018724699029811699)"
      ]
     },
     "execution_count": 56,
=======
       "Ttest_1sampResult(statistic=-1.4952395944686321, pvalue=0.16906508696023137)"
      ]
     },
     "execution_count": 86,
>>>>>>> a6f0ba11fa4652acad0b11c9018f36edd41d65bd
     "metadata": {},
     "output_type": "execute_result"
    }
   ],
   "source": [
    "# one sample T-test\n",
    "stats.ttest_1samp(sm_sample, popmean=98.6)"
   ]
  },
  {
   "cell_type": "code",
<<<<<<< HEAD
   "execution_count": 57,
=======
   "execution_count": 87,
>>>>>>> a6f0ba11fa4652acad0b11c9018f36edd41d65bd
   "metadata": {},
   "outputs": [
    {
     "data": {
      "text/plain": [
       "Ttest_relResult(statistic=0.0, pvalue=1.0)"
      ]
     },
<<<<<<< HEAD
     "execution_count": 57,
=======
     "execution_count": 87,
>>>>>>> a6f0ba11fa4652acad0b11c9018f36edd41d65bd
     "metadata": {},
     "output_type": "execute_result"
    }
   ],
   "source": [
    "# two sample T-test\n",
    "stats.ttest_rel(sm_sample,permuted_sample)"
   ]
  },
  {
   "cell_type": "code",
<<<<<<< HEAD
   "execution_count": 58,
=======
   "execution_count": 88,
>>>>>>> a6f0ba11fa4652acad0b11c9018f36edd41d65bd
   "metadata": {},
   "outputs": [
    {
     "data": {
      "text/plain": [
       "Ttest_indResult(statistic=0.0, pvalue=1.0)"
      ]
     },
<<<<<<< HEAD
     "execution_count": 58,
=======
     "execution_count": 88,
>>>>>>> a6f0ba11fa4652acad0b11c9018f36edd41d65bd
     "metadata": {},
     "output_type": "execute_result"
    }
   ],
   "source": [
    "stats.ttest_ind(sm_sample, permuted_sample, equal_var=False)"
   ]
  },
  {
   "cell_type": "code",
<<<<<<< HEAD
   "execution_count": 59,
=======
   "execution_count": 89,
>>>>>>> a6f0ba11fa4652acad0b11c9018f36edd41d65bd
   "metadata": {},
   "outputs": [
    {
     "name": "stdout",
     "output_type": "stream",
     "text": [
<<<<<<< HEAD
      "p =  0.0\n"
=======
      "p =  0.8719\n"
>>>>>>> a6f0ba11fa4652acad0b11c9018f36edd41d65bd
     ]
    }
   ],
   "source": [
    "# Make an array of translated temperatures: translated_temp\n",
    "translated_sample = sm_sample - np.mean(sm_sample) + 98.6\n",
    "\n",
    "# Take bootstrap replicates of translated temps: bs_replicates\n",
    "bs_replicates5 = draw_bs_reps(translated_sample, np.mean, 10000)\n",
    "\n",
    "# Compute fraction of replicates that are less than the observed temp: p\n",
    "p = np.sum(bs_replicates5 <= np.mean(sm_sample)) / 10000\n",
    "\n",
    "# Print the p-value\n",
    "print('p = ', p)"
   ]
  },
  {
   "cell_type": "markdown",
   "metadata": {},
   "source": [
<<<<<<< HEAD
    "Small sample size seems to provide same restults as above where null hypothesis (that pop mean is 98.6 ) rejected. Even with small sample size true mean is not 98.6."
   ]
  },
  {
   "cell_type": "markdown",
   "metadata": {},
   "source": [
=======
>>>>>>> a6f0ba11fa4652acad0b11c9018f36edd41d65bd
    "# Answer 5"
   ]
  },
  {
   "cell_type": "markdown",
   "metadata": {},
   "source": [
    "At what temperature should we consider someone's temperature to be \"abnormal\"?\n",
    "    <ul>\n",
    "    <li> Start by computing the margin of error and confidence interval."
   ]
  },
  {
   "cell_type": "code",
<<<<<<< HEAD
   "execution_count": 60,
=======
   "execution_count": 90,
>>>>>>> a6f0ba11fa4652acad0b11c9018f36edd41d65bd
   "metadata": {},
   "outputs": [
    {
     "data": {
<<<<<<< HEAD
      "image/png": "iVBORw0KGgoAAAANSUhEUgAAAecAAAFXCAYAAACYx4YhAAAABHNCSVQICAgIfAhkiAAAAAlwSFlz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\n",
      "text/plain": [
       "<matplotlib.figure.Figure at 0x9008ac8>"
=======
      "image/png": "iVBORw0KGgoAAAANSUhEUgAAAe0AAAFXCAYAAACP5RboAAAABHNCSVQICAgIfAhkiAAAAAlwSFlz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\nliC0AQCwBKENAIAlCG0AACzx/3Ud3nP3pxUfAAAAAElFTkSuQmCC\n",
      "text/plain": [
       "<matplotlib.figure.Figure at 0xc130fd0>"
>>>>>>> a6f0ba11fa4652acad0b11c9018f36edd41d65bd
      ]
     },
     "metadata": {},
     "output_type": "display_data"
    }
   ],
   "source": [
    "# Generate 10,000 bootstrap replicates of the variance: bs_replicates\n",
    "bs_rep_var = draw_bs_reps(temp, np.var, size=10000)\n",
    "\n",
    "# Make a histogram of the results\n",
    "_ = plt.hist(bs_rep_var, normed=True, bins=50)\n",
    "_ = plt.xlabel('variance of temp (F)')\n",
    "_ = plt.ylabel('PDF')\n",
    "\n",
    "# Show the plot\n",
    "plt.show()"
   ]
  },
  {
   "cell_type": "code",
<<<<<<< HEAD
   "execution_count": 61,
=======
   "execution_count": 91,
>>>>>>> a6f0ba11fa4652acad0b11c9018f36edd41d65bd
   "metadata": {},
   "outputs": [
    {
     "data": {
<<<<<<< HEAD
      "image/png": "iVBORw0KGgoAAAANSUhEUgAAAecAAAFXCAYAAACYx4YhAAAABHNCSVQICAgIfAhkiAAAAAlwSFlz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\nD8obEtANuhyPAAAAAElFTkSuQmCC\n",
      "text/plain": [
       "<matplotlib.figure.Figure at 0x926b8d0>"
=======
      "image/png": "iVBORw0KGgoAAAANSUhEUgAAAecAAAFXCAYAAACYx4YhAAAABHNCSVQICAgIfAhkiAAAAAlwSFlz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\nAFjmf9ZvEeSPYXWdAAAAAElFTkSuQmCC\n",
      "text/plain": [
       "<matplotlib.figure.Figure at 0x9ed5e80>"
>>>>>>> a6f0ba11fa4652acad0b11c9018f36edd41d65bd
      ]
     },
     "metadata": {},
     "output_type": "display_data"
    }
   ],
   "source": [
    "def bootstrap_replicate_temp(data, func):\n",
    "    \"\"\"Generate bootstrap replicates of human temp data\"\"\"\n",
    "    bs_sample = np.random.choice(data, len(data))\n",
    "    return func(bs_sample)\n",
    "\n",
    "# Initialize array of replicates: bs_replicates\n",
    "bs_replicates = np.empty(10000)\n",
    "\n",
    "# Generate replicates\n",
    "for i in range(10000):\n",
    "    bs_replicates[i] = bootstrap_replicate_temp(temp, np.mean)\n",
    "    \n",
    "# Make a histogram of the results\n",
    "_ = plt.hist(bs_replicates, bins=30, normed=True)\n",
    "_ = plt.xlabel('mean of temperatures')\n",
    "_ = plt.ylabel('PDF')\n",
    "plt.show()"
   ]
  },
  {
   "cell_type": "code",
<<<<<<< HEAD
   "execution_count": 62,
=======
   "execution_count": 92,
>>>>>>> a6f0ba11fa4652acad0b11c9018f36edd41d65bd
   "metadata": {},
   "outputs": [
    {
     "data": {
      "text/plain": [
<<<<<<< HEAD
       "array([ 98.12307692,  98.37615385])"
      ]
     },
     "execution_count": 62,
=======
       "array([ 98.12230769,  98.37384615])"
      ]
     },
     "execution_count": 92,
>>>>>>> a6f0ba11fa4652acad0b11c9018f36edd41d65bd
     "metadata": {},
     "output_type": "execute_result"
    }
   ],
   "source": [
    "# Compute the 95% confidence interval: conf_int\n",
    "conf_int = np.percentile(bs_replicates, [2.5, 97.5])\n",
    "conf_int"
   ]
  },
  {
   "cell_type": "code",
<<<<<<< HEAD
   "execution_count": 63,
=======
   "execution_count": 93,
>>>>>>> a6f0ba11fa4652acad0b11c9018f36edd41d65bd
   "metadata": {},
   "outputs": [
    {
     "name": "stdout",
     "output_type": "stream",
     "text": [
<<<<<<< HEAD
      "95% confidence interval = [ 98.12307692  98.37615385] body temps\n"
=======
      "95% confidence interval = [ 98.12230769  98.37384615] body temps\n"
>>>>>>> a6f0ba11fa4652acad0b11c9018f36edd41d65bd
     ]
    }
   ],
   "source": [
    "# Print the confidence interval\n",
    "print('95% confidence interval =', conf_int, 'body temps')"
   ]
  },
  {
   "cell_type": "markdown",
   "metadata": {},
   "source": [
    "We should consider body temperature to be abnormal when it falls below 98.1 F or when it's over 98.4 F"
   ]
  },
  {
   "cell_type": "markdown",
   "metadata": {},
   "source": [
    "# Answer 6"
   ]
  },
  {
   "cell_type": "markdown",
   "metadata": {},
   "source": [
    "Is there a significant difference between males and females in normal temperature?\n",
    "    <ul>\n",
    "    <li> What test did you use and why?\n",
    "    <li> Write a story with your conclusion in the context of the original problem."
   ]
  },
  {
   "cell_type": "code",
<<<<<<< HEAD
   "execution_count": 64,
=======
   "execution_count": 96,
>>>>>>> a6f0ba11fa4652acad0b11c9018f36edd41d65bd
   "metadata": {},
   "outputs": [
    {
     "data": {
      "text/html": [
       "<div>\n",
       "<style>\n",
       "    .dataframe thead tr:only-child th {\n",
       "        text-align: right;\n",
       "    }\n",
       "\n",
       "    .dataframe thead th {\n",
       "        text-align: left;\n",
       "    }\n",
       "\n",
       "    .dataframe tbody tr th {\n",
       "        vertical-align: top;\n",
       "    }\n",
       "</style>\n",
       "<table border=\"1\" class=\"dataframe\">\n",
       "  <thead>\n",
       "    <tr style=\"text-align: right;\">\n",
       "      <th></th>\n",
       "      <th>temperature</th>\n",
       "      <th>gender</th>\n",
       "      <th>heart_rate</th>\n",
       "    </tr>\n",
       "  </thead>\n",
       "  <tbody>\n",
       "    <tr>\n",
       "      <th>0</th>\n",
       "      <td>99.3</td>\n",
       "      <td>F</td>\n",
       "      <td>68.0</td>\n",
       "    </tr>\n",
       "    <tr>\n",
       "      <th>1</th>\n",
       "      <td>98.4</td>\n",
       "      <td>F</td>\n",
       "      <td>81.0</td>\n",
       "    </tr>\n",
       "    <tr>\n",
       "      <th>2</th>\n",
       "      <td>97.8</td>\n",
       "      <td>M</td>\n",
       "      <td>73.0</td>\n",
       "    </tr>\n",
       "    <tr>\n",
       "      <th>3</th>\n",
       "      <td>99.2</td>\n",
       "      <td>F</td>\n",
       "      <td>66.0</td>\n",
       "    </tr>\n",
       "    <tr>\n",
       "      <th>4</th>\n",
       "      <td>98.0</td>\n",
       "      <td>F</td>\n",
       "      <td>73.0</td>\n",
       "    </tr>\n",
       "  </tbody>\n",
       "</table>\n",
       "</div>"
      ],
      "text/plain": [
       "   temperature gender  heart_rate\n",
       "0         99.3      F        68.0\n",
       "1         98.4      F        81.0\n",
       "2         97.8      M        73.0\n",
       "3         99.2      F        66.0\n",
       "4         98.0      F        73.0"
      ]
     },
<<<<<<< HEAD
     "execution_count": 64,
=======
     "execution_count": 96,
>>>>>>> a6f0ba11fa4652acad0b11c9018f36edd41d65bd
     "metadata": {},
     "output_type": "execute_result"
    }
   ],
   "source": [
    "df.head()"
   ]
  },
  {
   "cell_type": "code",
<<<<<<< HEAD
   "execution_count": 65,
=======
   "execution_count": 106,
>>>>>>> a6f0ba11fa4652acad0b11c9018f36edd41d65bd
   "metadata": {
    "collapsed": true
   },
   "outputs": [],
   "source": [
    "# male and female body temps\n",
    "male_temp = df.temperature[(df.gender == 'M')]\n",
    "female_temp = df.temperature[(df.gender == 'F')]"
   ]
  },
  {
   "cell_type": "code",
<<<<<<< HEAD
   "execution_count": 66,
=======
   "execution_count": 123,
>>>>>>> a6f0ba11fa4652acad0b11c9018f36edd41d65bd
   "metadata": {},
   "outputs": [
    {
     "data": {
      "text/plain": [
       "65"
      ]
     },
<<<<<<< HEAD
     "execution_count": 66,
=======
     "execution_count": 123,
>>>>>>> a6f0ba11fa4652acad0b11c9018f36edd41d65bd
     "metadata": {},
     "output_type": "execute_result"
    }
   ],
   "source": [
    "len(male_temp)"
   ]
  },
  {
   "cell_type": "code",
<<<<<<< HEAD
   "execution_count": 67,
=======
   "execution_count": 124,
>>>>>>> a6f0ba11fa4652acad0b11c9018f36edd41d65bd
   "metadata": {},
   "outputs": [
    {
     "data": {
      "text/plain": [
       "65"
      ]
     },
<<<<<<< HEAD
     "execution_count": 67,
=======
     "execution_count": 124,
>>>>>>> a6f0ba11fa4652acad0b11c9018f36edd41d65bd
     "metadata": {},
     "output_type": "execute_result"
    }
   ],
   "source": [
    "len(female_temp)"
   ]
  },
  {
   "cell_type": "markdown",
   "metadata": {},
   "source": [
    "Since our sample size for both genders are over *Z* test"
   ]
  },
  {
   "cell_type": "code",
<<<<<<< HEAD
   "execution_count": 68,
=======
   "execution_count": 108,
>>>>>>> a6f0ba11fa4652acad0b11c9018f36edd41d65bd
   "metadata": {
    "collapsed": true
   },
   "outputs": [],
   "source": [
    "# mean temp by gender\n",
    "male_temp_mean = np.mean(male_temp)\n",
    "female_temp_mean = np.mean(female_temp)"
   ]
  },
  {
   "cell_type": "code",
<<<<<<< HEAD
   "execution_count": 69,
=======
   "execution_count": 109,
>>>>>>> a6f0ba11fa4652acad0b11c9018f36edd41d65bd
   "metadata": {},
   "outputs": [
    {
     "data": {
      "text/plain": [
       "98.1046153846154"
      ]
     },
<<<<<<< HEAD
     "execution_count": 69,
=======
     "execution_count": 109,
>>>>>>> a6f0ba11fa4652acad0b11c9018f36edd41d65bd
     "metadata": {},
     "output_type": "execute_result"
    }
   ],
   "source": [
    "male_temp_mean"
   ]
  },
  {
   "cell_type": "code",
<<<<<<< HEAD
   "execution_count": 70,
=======
   "execution_count": 110,
>>>>>>> a6f0ba11fa4652acad0b11c9018f36edd41d65bd
   "metadata": {},
   "outputs": [
    {
     "data": {
      "text/plain": [
       "98.39384615384613"
      ]
     },
<<<<<<< HEAD
     "execution_count": 70,
=======
     "execution_count": 110,
>>>>>>> a6f0ba11fa4652acad0b11c9018f36edd41d65bd
     "metadata": {},
     "output_type": "execute_result"
    }
   ],
   "source": [
    "female_temp_mean"
   ]
  },
  {
   "cell_type": "code",
<<<<<<< HEAD
   "execution_count": 71,
=======
   "execution_count": 129,
>>>>>>> a6f0ba11fa4652acad0b11c9018f36edd41d65bd
   "metadata": {},
   "outputs": [
    {
     "data": {
      "text/plain": [
       "0.289230769230727"
      ]
     },
<<<<<<< HEAD
     "execution_count": 71,
=======
     "execution_count": 129,
>>>>>>> a6f0ba11fa4652acad0b11c9018f36edd41d65bd
     "metadata": {},
     "output_type": "execute_result"
    }
   ],
   "source": [
    "mean_diff = female_temp_mean - male_temp_mean\n",
    "mean_diff"
   ]
  },
  {
   "cell_type": "code",
<<<<<<< HEAD
   "execution_count": 72,
=======
   "execution_count": 115,
>>>>>>> a6f0ba11fa4652acad0b11c9018f36edd41d65bd
   "metadata": {},
   "outputs": [
    {
     "data": {
      "text/plain": [
       "0.6933598841828696"
      ]
     },
<<<<<<< HEAD
     "execution_count": 72,
=======
     "execution_count": 115,
>>>>>>> a6f0ba11fa4652acad0b11c9018f36edd41d65bd
     "metadata": {},
     "output_type": "execute_result"
    }
   ],
   "source": [
    "male_std = np.std(male_temp)\n",
    "male_std"
   ]
  },
  {
   "cell_type": "code",
<<<<<<< HEAD
   "execution_count": 73,
=======
   "execution_count": 116,
>>>>>>> a6f0ba11fa4652acad0b11c9018f36edd41d65bd
   "metadata": {},
   "outputs": [
    {
     "data": {
      "text/plain": [
       "0.7377464486428966"
      ]
     },
<<<<<<< HEAD
     "execution_count": 73,
=======
     "execution_count": 116,
>>>>>>> a6f0ba11fa4652acad0b11c9018f36edd41d65bd
     "metadata": {},
     "output_type": "execute_result"
    }
   ],
   "source": [
    "female_std = np.std(female_temp)\n",
    "female_std"
   ]
  },
  {
   "cell_type": "code",
<<<<<<< HEAD
   "execution_count": 74,
=======
   "execution_count": 117,
>>>>>>> a6f0ba11fa4652acad0b11c9018f36edd41d65bd
   "metadata": {
    "collapsed": true
   },
   "outputs": [],
   "source": [
    "# Sample out of a normal distribution with mu and sigma: samples\n",
    "samples_male = np.random.normal(male_temp_mean, male_std, size=10000)\n",
    "samples_female = np.random.normal(female_temp_mean, female_std, size=10000)"
   ]
  },
  {
   "cell_type": "code",
<<<<<<< HEAD
   "execution_count": 75,
=======
   "execution_count": 125,
>>>>>>> a6f0ba11fa4652acad0b11c9018f36edd41d65bd
   "metadata": {
    "collapsed": true
   },
   "outputs": [],
   "source": [
    "# Get the CDF of the samples and of the data\n",
    "x_theor_m, y_theor_m = ecdf(samples_male)\n",
    "x_theor_f, y_theor_f = ecdf(samples_female)\n",
    "x_m, y_m = ecdf(male_temp)\n",
    "x_f, y_f = ecdf(female_temp)"
   ]
  },
  {
   "cell_type": "code",
<<<<<<< HEAD
   "execution_count": 76,
=======
   "execution_count": 128,
>>>>>>> a6f0ba11fa4652acad0b11c9018f36edd41d65bd
   "metadata": {},
   "outputs": [
    {
     "data": {
<<<<<<< HEAD
      "image/png": "iVBORw0KGgoAAAANSUhEUgAAAe8AAAFXCAYAAACLEMbVAAAABHNCSVQICAgIfAhkiAAAAAlwSFlz\nAAALEgAACxIB0t1+/AAAIABJREFUeJzs3Xl8XGd58P3f7KPRmdGM9s1aLclbEseKcVIwSUsSk6Rv\n2zikTiihCy2F8pQ+wAsPT98PKdBiUgpPadle2rc0pYUmbeq2GBLUOCQEUhISJ7bjTYu179tIM2f2\nmXPeP8aSJUujZaTRen0/Hz6RZznnnsPYl859X/d1GXRd1xFCCCHEpmFc7wEIIYQQYnkkeAshhBCb\njARvIYQQYpOR4C2EEEJsMhK8hRBCiE1GgrcQQgixyZjXewBLNTLiX+8hbCgejwOvN7jew9iQ5Nqk\nJtcmNbk2qcm1SS3T16agwDnv43LnvUmZzab1HsKGJdcmNbk2qcm1SU2uTWrrdW0yGrzPnj3LI488\nMufxH/3oRzzwwAMcO3aMf/mXf8nkEIQQQogtJ2PT5n/7t3/L9773PbKysmY9HovF+PznP89TTz1F\nVlYWDz/8ML/0S79Efn5+poYihBBCbCkZC94VFRV85Stf4ROf+MSsx69cuUJFRQU5OTkANDY28uqr\nr3LPPfdkaihCCLGpqCo0NxtpaNBQlPUeTXp0XUef+q8+87+gXf0ZdDT9utfA9M/adY8nDzzrP8ys\n8K1f9xwz3qdryZ/sdiMep+3audBB9WFuvky0vgEtO/vqc1fPjzZ9Hu3q41PP6+hEfQHGAuqcscx7\nTZj9fI7NhWLJXvI1nSljwfvIkSP09vbOeVxVVZzOawvw2dnZqKqaqWEIIcSmoqpw5IiD1lYTdXUJ\nmpqCaxrAdV0nGteIRBOEYwnCkTijaoyxcZW4ppNIaCQSOglNJ65d+zmR0K4+r5O4+ri2xNYZuq6T\nIE6C2PT/ND2BhoZGAh3taqjU5vysoaPrc5/n6iPA9J8BDAYD9eVuDIbkuc3BEL/825/E3dXHRGUZ\n3//7x4g7suYf6DwcfhvBQGQ5l3ia25bDW8sOpfXeNc82VxSFQCAw/edAIDArmKfi8TgkaeI6qbIQ\nhVybhci1SW0jXJv2dmhtTf7c2mpieNhJdfXKj6vrOpFYglA4TjASJxiOEY4miESTj4WicUKR5P80\n7fqg61vw2EajAZPZRJbJiMloAGMczZhAJ05cj5HQoyRIoJEgoSfQiKPpCeJ6nJgeJaHHpo9lMBgw\nAWYDGK7+Ofn43PMaMCZfbzBhNBoxGoyYDEYMGDAaks8ZMGAwGDAaDICBLJsFj2Kffkx54wLurj4A\n3F19NKoQqK/DaDBcfb/x6nu5+tjU8ZPHu/a6eQY4c6zXfQADkOvw4Lan951b8+BdW1tLV1cXExMT\nOBwOXnvtNd73vvct+j7ZpjBbQYFTts+lINcmNbk2qW2Ua1NYCHV11+68CwuDjIws7b2arhMMx/EH\nowTCcQKhGIFwjEA4TjgSJzEnKF9jNBiwWU3YrSZsdhN2q5ksa/K/xUVOJidDmI0GTFcDtNEAGBPE\ntBiBeABf1M942Is/GiCmxVKeB5KZ0kbAbjRjM2VjM1mxmW3YTFasRis2kxWz0Xz1f6ZkcL4amI0G\nI0aDafrn64Pist1YRryuHnNrC/G6evL3vYN869KnOgry0//exPww4l/4val+oVyz4H3y5EmCwSDH\njh3jk5/8JO973/vQdZ0HHniAoqKitRqGEEKsu4XWtBUFmpqCi655a5rO6GSICTWKLxDFH4qhBqPz\nBmib1YQz20qW1UyWLRmQ7VYTdpsZm9mI3WrGakkRCFU/rtY3UHPzmLSAGlLxhicJxIJoemLWSw0G\nA9mWbHLNbuxmO1ZTMhDbTFYsRgtmoxnLdFA2YzRsgN3KioK36QXMzZeIN+xmsyQZGDZLP++N8Bvx\nRrJR7hI2Irk2qcm1SW2trk26a9q6rhO4elfdPxpkeCJIJHoteJpMRpwOC84sK06HhewsC4rdjMNu\nwWJeepDUdZ1gPESfOsDEWB9ve/cHyOnsnbUebDSYcFqzsZts2Mw2ssxZ5FhduG0uLCZLOpdl08r0\n92bd77yFEEIk77hbW5P5O62tJpqbjTQ2avO+NhZPMOwNMToZpndEJRa/9jqbxUR1iYsCdxY5ihWH\nzZzWFLKma/iifiYjPvoDQ/gj/ulp7/yLLeR0JhOP3V19vGXChqn+NrLNDkxGyUFaTxK8hRBiDTU0\naNTVJabvvBsaZgfueEJjcDxI74jKsDc0nTxmtZgoycvG47ThVqwUuLPSXu9NaAkGg8MMBUcYCY4S\n1+LTz2Vbs8m1eChyFFLyi28hXvf49HqwZ//bYBnrwSJzJHgLIUQGpFrXnm9NW9d1xn0ROgf9DIwF\niCeSAT0n20pxXjZFnizcig2jMf3kLE3XGAt56Q8MMBQYmb67zjLbKcdJUfcwjhvfgsNdMOt93qYX\nKBjuxltYsWnWg7cDCd5CCLHKFlvXVhRobNSIxhK09ar0DPuZDEQByLZbqC11UVag4Mq2rmgcuq7j\njUzQMdnNaGhs+g7bbrZT7iylTCkhJ2bAc+QXp++uvU0vMGew1YdAciU2FAneQgixyhZb147GErT0\nTtDe70PTdIwGAyV52dSWusjLsa94+1NCS9Dt76PL30Mgmqyr4bA4KHeWUuwoItfunj6H+fyrmFtb\nkj+3tiSzrhsPruj8IvMkeAshxCpLta6d0DQ6Bvxc6hwnoek47BaqS5xUFDqxWVeeABaKh2mbaGco\nOEIkHsFoMFGUXUiVq4I8u2feXwriDbtn7XOON+xe8ThE5knwFkKIVXb9urZmiHK5K0BL7wSapmM2\nGdlT5aG2zIXJuPK9zsFYiC5fD52+num91zU5VdS6q7CaFpl636T7nLc7Cd5CCJGmxYqt1O8Oc7l7\ngt6RZP8Gs8lIcb6DG4tsKB2txD0rC5bRRJRmbxs9/j50XcdmtlHnrqdcKV3eVi5FkanyTUaCtxBC\npGGhpDSvP0J7/yS9IwF0Xcet2Kgty6E414ElHMRz5I7UCWJLoOkanb4e2rztxLQYDouDne4aSrOL\nZP/1NiHBWwgh0jBfUtruvVFOtwwzNhkGwOmwsrvSQ0me41qCWPOlFSWIjYe9nB25QDAWxGK0sCev\ngUrXjo1RalSsGQneQgiRhplJaTt3JtBso5w6PYmm6RS4s6grz5m3kEq6CWLBWIgLY5cZDo6AwUCl\nawf1ntrF17TFliTBWwghFrBYsZWfn44TNA7S542SbbfQUOFmR6GCIRDA/Pprc5PAlpkgpus6Xf4e\nLo+3kdDieOxuGjx15GV5MvSJxWYgwVsIIVJYrNjKmOpHNY2iAzvLcthd6Ulmj6vqwuvaS0wQC8aC\nnBu9yFhoHIvJwr6CfZQpJStvgyk2PQneQgiRQqpiK7G4RnO3lyv9PqxmIwd3F5KfkzX9vpWuaycT\n0rppHm9D0zXc9hwOFN5Eltm+uh9QbFoSvIUQIoX5iq0MjAU42zZGOBrHbjVz694i3Ipt1vtWUvhk\nNDTGxbEW/FE/VpOVXbl1lCklkpAmZpHgLYQQKcwutpJg2OfnzfYxjAbYWZ5Dfbkbq2WerVlpFD7R\ndZ0OXxeXxltB1ylzlrI7tx6bJKSJeUjwFkJse6oK7e1QWDg3zioK7L0hyunmEUYmQtgsJm7dW4zH\naQNVxXwuRYBeRuGThJbg4ngz3b5ebGYbtxTtx23LWaVPJ7YiCd5CiG3tWlIa1NU55iSlxeIaP780\nzLgvTK7LzoH6ApQsy+JJaUsUjof5+eAb+KN+XDYntxTdLGvbYlGyiCKE2NbmS0qbEoklePFsP+O+\nMDsKnRy+sSQZuJk/KW25hgLDvND73/ijfsqdZdxWclACt1gSCd5CiG1tKikNmNUBLBSJ89/nB/EH\no1QVu7i5Pn/WFq2ppDRg2Ulpuq7T6m3ntaEz6LrO7rx6bszfg9kok6FiaeSbIoTY1hQFTpwI8sor\nTg4dSk6ZB8IxXr4wlAzcJS5uqs2bu7daUfCe+AG2U01E7jyy5ClzXdc5P3aJbl8vdrOdxqKbZH1b\nLJsEbyHEtqaqcPTotTXvp/59gjMdA0SiCXaW5bC3Onf+oiiqiufofcta89Z0jYtjycQ0p9XJLUX7\ncViyFnyPEPORaXMhxLZ2/Zr3U89MEIkm2Fudmzpws/w1b13XOTNyni5fD4pV4VBJowRukTYJ3kKI\nbW3mmndxWZjishAH6guoK3cvWIZ0OWvemq5xbvQiA+ogLpuLXyg5KPu3xYrItLkQYlvLztb5P18b\n4ntPww0HfNx56Ooe7imqOn+xlSUWYkloCc6MvMlgYJgcm4u3FB/AYrJk+FOJrU6CtxBiWzvX6uP3\nfjufwT47NbWF/PKzoWtPrrDBSDQR47WhN/CGJ8jLyqWxaD8WySgXq0CmzYUQ21bXoJ/nfhJisC+5\nt7r9innWPu+V7OUOxUO8Mvga3vAEJUoxB4tulsAtVo0EbyHEtjQwFuBM2yjVNTFqa+PA7H3ekP5e\nbjUW4Kd9r+CLJIuv3FxwAybjPDXQhUiT/BoohNh2JtUIr10exmg0cLixgLueDTE87KSwcHZp1HQa\njMQSMV4dfINoIkqdp4Y6d6303xarToK3EGJbUNXktrDyyghvXBkioekc2lNIris5ZV5dDSMjKztH\nXIvz2vBZgrEgte5q6j07V2HkQswl0+ZCiC1vqvnIPfdkc+TubCYmNfZV51GSl73oGz1H7sBzzzvw\nHLkjeaAUArEgP+l7mfHQOAWOfOo9tav7IYSYQYK3EGLLm1mIpb/XRlaiiJ3li5ckXWrCWlyL8/rw\nOYKxIFU5lTQW3oTRIP+8isyRb5cQYsurb0hQtiMCQGVVjHccXlpls6UkrGm6xumhs/giPsqdpezJ\nrZfkNJFxsuYthNgypta1Gxq0WbllXcPj/K/P+4mpHu6/24WiGOa+sf0iFFYsuxDLpfFWRkNjFDoK\nuCF/jySniTUhwVsIsSVMrWu3tpqoq0vQ1JTMHO8bDdDWN0lBnpXDv6hgtcwN3J4jd0BrC55lFmLp\n8vXQOdlFtjWbmwr2yVS5WDPyTRNCbAnXNxhpbjYSisQ51zaKyWjgLbsLsVrmTmenW4glEAtycawF\nq8nKwaKbsUrJU7GGJHgLIbaEmQ1G6uoS7KyL8/KFQSKxBHuqc3E65m8Ekk4hlqm93JqeYG/eLrIt\njtX7IEIsgUybCyG2BEWBpqYgzc1GdtbFOdM+wGQgSnmBQk2Ja8E3epteoGC4G+/1a97z0HWdN8cu\nEYgFqHCVU5JdtMqfRIjFSfAWQmwpug5n28bwBiLsKFS4ub5gVZPIetQ+BtRBPHYPe/N2SYKaWBcy\nbS6E2BKmEtbuvTeb//G+UhyWLG6uK8C4WHCdSli79dZFC7H4oyoXx5qxGC3slwQ1sY7kmyeE2BJm\nJqwN9tlxGUowGhe/K15qwlpCS/DG8JsktAQ3FOzBYVnaXnEhMkGCtxBiS6iujVFanizEUlMbZ9/e\npb1vqQlrl8Zb8Ef9ss4tNgRZ8xZCbHqartPcN8JHPh1ltKuY9/y6dW7emarOX2xlCQlrQ4Fhunw9\nOK0Ke3IbMvthhFgCCd5CiE3vUpeXrr4wX/5MPX09Nk48ca1ICzC9rm1ubSGeohAL1YdgxD/n2NFE\nlHOjFzEajNxceKOUPhUbgkybCyE2tZGJEG29k3iHFfp6bMC1Ii1T0i3EAnB5vJVoIkq9ZydO6+L9\nvIVYCxK8hRCbViAc4+eXhjAY4L5fUmYVaWlo0KZfl04hFkhWUetR+1GsCtU5Fav/AYRIk0ybCyE2\nJU3TOdc2RiyucXNdARXF9ukiLdc3JllKg5HrJbQErw2dAV1np7tatoWJDUWCtxBiU5nqHKbZRxny\nBin0ZFFRlAzGCiqHuESc3cB1AXqBBiPzuTTeghpVqXCVU5pdvIqfQIiVk+AthNg0ZnYOKy4z8bm/\nCnJwV1GyytliSWnL0K8O0uXrIduSza7ceqmiJjYcmQcSQmwa1xdiscQKsJiT/4ytJCltpsmIjzdH\nL2I0mLileD8Wo9zjiI0nY8Fb0zQeffRRjh07xiOPPEJXV9es57/3ve9x//3388ADD/Dd7343U8MQ\nQmwhDQ0a1TVxAMorIrzt0LVOYekmpc2k6RrnRi8Q1+LcVLAXxZK9OgMXYpVl7FfKU6dOEY1GefLJ\nJzlz5gyPPfYY3/jGN6af/8IXvsD3v/99HA4H9913H/fddx85OTmZGo4QYguwZ2n8359p4+c/c/CB\n38pGUWa0+VQUvCd+gO1UE5E7j6Q1Zd7l68EX8VPuLKVUkXVusXFlLHifPn2aw4cPA7B//37Onz8/\n6/mGhgb8fj9msxld12VNSQixqAtX/PzpJ6sY7LPz38/OU4jl6H1pr3lPhn1cHm/DYrTQ4KnLyPiF\nWC0ZC96qqqLM+ItjMpmIx+OYzclT1tXV8cADD5CVlcVdd92Fy7VAv13A43FgNktlo5kKCpzrPYQN\nS65Napv12qihGK+87mWwzw4kC7EMDzuprr76gvaLMGPNu2C4O1k1bQniWoLn2/8bu8PML+xopDwn\nPxMfYVPbrN+btbAe1yZjwVtRFAKBwPSfNU2bDtyXL1/mhRde4LnnnsPhcPDxj3+cZ555hnvuuSfl\n8bzeYKaGuikVFDgZmaeUo5Brs5DNfG1euTiEKzdEVXWMzg4LdXUJCguDjIxcfUFhBZ66+mt33oUV\n85Y7vZ6ma7w+dBa/wUeuMQ9bVNm01yhTNvP3JtMyfW1S/WKQsYS1AwcO8OKLLwJw5swZ6uvrp59z\nOp3Y7XZsNhsmk4nc3Fx8Pl+mhiKE2ERUFU6fNs5qqz08EWJgLEBpkZUfPRfimWcCs6fMYXrN2/eX\nX8V74gdLnjK/MtHJUHCEfEcu+/KWn+QmxHrI2J33XXfdxUsvvcRDDz2EruscP36ckydPEgwGOXbs\nGMeOHePd7343FouFiooK7r///kwNRQixSczcx11Xl1zTtmdpvNEygsFg4IaaPBTFQGOjNu+bl7vm\nHYqHuTLZgc1s422VB5kcD2fmgwmxyjIWvI1GI5/97GdnPVZbWzv988MPP8zDDz+cqdMLITahmfu4\np5qL2HPHCUXi1O9w43HaUr53vn3ei1VUa/FeIaEl2Ju3C6vJAkjwFpuDFGkRQmwYDQ3arOYiZRVh\nrvRPkm23UL/DveB7l7vP2xf106v247QqlCklq/MBhFgjUjpICLFhKAozmoskONc5hqbp7K3OxWxa\n5F5jmc1HLo+3gq6zK7dOmo6ITUe+sUKIDalnOMCwN0SBO4vS/NWtdDYaGmMkOEpeVi4FWbItTGw+\nEryFEBvGVMLaPfdk89C7PCRiZm6uW2JwvdqYxHPPO/AcuYNZ6eoz6LpOi/cKALty66RAlNiUJHgL\nITaMmQlrA7127PFCHHbLkt671MYkXf4evOEJirMLcdukJLPYnCR4CyE2jIYGjdraZOORsh0Rbv+F\n1Nnl11tKwlowFkqWQDVZ2Ct7usUmJglrQogNQ1HgT77QzalTZn7zYTuKkrWsNy/UmETXdd4cvUhC\ni7OvYB9289J/MRBio5HgLYTYMDr7wnziw6UM9tn52anE3CpqC1mkSEu3v5fR0BgFjnzZGiY2PZk2\nF0JsCLquc+onwVmNR5qbl/5P1EJr3uF4mObxNsxGMzfm75EkNbHpSfAWQmwIY5NhlFwf5RVRIFmk\npaFhnjKoKSy05n1h7DIxLUZD7k7sZvvqDlyIdSDT5kKIDaGldwJ7lsZ/npxkuN9BQ4O2nHbcKYu0\njIbGGAwM47G7qXTuyMzghVhjcucthFh3Xn9kuiCLx7l6d8YJLcH5sctgMLA3b5dMl4stQ+68hRDr\nrrnHC0BZrmdOV7FlJawduWNWwlpHfIRANEClawc5NlfmPoAQa0zuvIUQ60oNxRgcC5LrsjM64JjT\nVWyprk9Y0y6epW2iA6vJSr1nZ0bGLsR6keAthFhX7f0+AGpKXezaNbur2EoS1i4UWkhocRo8O6+2\n+xRi65BpcyHEulFDMboGfThsZkryHJiMcOJEkFOnzNx5Z3z5CWtXi7SMvP02umMduGwuyp2lGRu/\nEOtFgrcQYl3ous65K6MkNJ09VbmYjEZUFY4eXcGa99UiLYbqCsx/9zn2lNwi7T7FliTfaiHEuhgY\nCzLsDVHoyaKsINnyc2ZjkpWseTs7uqnq85Fr96z+wIXYACR4CyHWnK7rXOgcx2gwcENN3vQWroaG\n1Vnznqgqo+TgnbI1TGxZMm0uhFhzY74wgVCMHYUKTod1+nFFgaamIM3NxrSKtPz3d7+J7+zPcN50\nK3typX652LrkzlsIseamMswri53Lf7OqYj79KqjqrIe94QnaE2NEDhygrvym1RimEBuW3HkLIdZU\nKBJnYCyIW7GR55pdTU1VWbhIyzyFWFAUdF3n4ngzAHvzdmORrWFii5M7byHEmuoe8qPrOpXFzjlr\n0oslrKXqHDYQGGIiPElxdhF5WZKkJrY+Cd5CiDWj6TrtAz4sZiPlBXMXtBdLWJuvc1g0EePieDNG\ng4lduXWZ/xBCbAAybS6EWDPjvjCRaIJCl4tzZ81zktIWTVibUYglcucRUBRaRi8RiUdoyK0j2+JY\n088jxHqR4C2EWDOtPZOEQ0Y++vEdtLeb513XVhRobEyxRWxGIZZ4XT39P/ghPf4+HBYHNTmVa/Mh\nhNgAZNpcCLEmxibDDHmDBL05tLcn7xtW2nxk4LVTaLpGbU6VVFIT24p824UQGTdVlAXgHW/LWpVC\nLNGdO2ktzpL65WJbkmlzIUTGjfnCjPvClORlU1lmX5XmIz+/qZS4Q2OXp07uusW2I8FbCJFxHQN+\nAKpLXavWfOSWyjIi//xN8rNyMzdwITYo+XVVCJFRE2qE/tEAToeVghz7qjUfcXf1sWc4JvXLxbYk\nwVsIkTG6rvPmlTF0XWdfTS4Gg2HFzUeiO5N7uX1VO1BufEtGxi3ERifT5kKIjBkYCzLmC1OU66DI\nk9yDvdLmIz/752/iP/syFYfeSYmSRm10IbYAufMWQmSEz6/xnz8MEQmb2Fs9e116ai/3sgI3EI6H\n6VMHsJvtFGcXruJohdhc5M5bCLHqVBXuvDObzo4cKiqj3Pd8ZFWO29l/iXt/6xO4u/qI1/2/041J\nhNhu5M5bCLHqmpuNdHYk7w26u6zLSkpLJZqI4j/7Mu6uPmB2YxIhthsJ3kKIVVdaEaa4LAwsPykt\nlfbJLsarSwnVVAPXGpMIsR3JtLkQYtWN+Hx87DODqANlvOvXTCue2Q7Fw3T6ujG73Pj+42lizz03\n3ZhEiO1IgrcQYlUFwzEudwT4y0/X0d9r47vfXmYhlnm0eq+Q0BLss5eT98CvTjcmkTVvsV3JtLkQ\nYlVd7p6gt8tGf68NWH4hlutNRnz0qP0oVoWK3slZjUlkzVtsVxK8hRCrxuuP0DOssntXIu1CLNe7\nON4Cus7u3Dq0XXumG5PImrfYzmTaXAixKnRd5832ZDW1xn256RdimWEiMsl4aJz8rDwKHQUAeJte\nwNx8KRm4ZcpcbFNy5y2EWBVjk8nOYcV5DgrdWSs+nq7rNI+3AbDTXb3i4wmxlcidtxBiVbT0TgBQ\nX+5GVeHIkTQ7h101Fh5nNDRGgSOfvKnOYaqK58gdkrAmtj258xZCrJjXH2HYGyI/J4tc18o6h03p\nnOwGoM5dM/3YzK5ikrAmtjMJ3kKIFWuduuvekQOwos5hAN7wBEPBEdz2HNy2nOnH4w27JWFNCGTa\nXAixQr5AlIGxIG7FRsHVtW5FgRMngpw6ZebOO+PLm9lWVbwv/xBzcRYNJY2z+3UriiSsCYEEbyHE\nCrX0TKDrOg0V7ulAq6pw9Ggaa96qivvu2znU1sruqh1EfvTy3NcoCvHGg6v7IYTYZGTaXAiRNl8g\nSu+ISk62leJcx/Tj6a55m5svYWlrBcDV2YO5+fLqD1qILSBjwVvTNB599FGOHTvGI488QldX16zn\nz507x7vf/W4efvhhPvzhDxOJrE7LQCHE2mnpubrWXeGZNb2d7pp3qG4nE1VlgKxpC7GQjE2bnzp1\nimg0ypNPPsmZM2d47LHH+MY3vgEk929+6lOf4q//+q+prKzkX//1X+nr66OmpmaRowohNopgOE7f\naICcbCuleY5ZzykKaRVp6dImuPKtx9g/ZqCo8ZdkTVuIFDIWvE+fPs3hw4cB2L9/P+fPn59+rqOj\nA7fbzeOPP05rayu33367BG4hNpmuIT+hoAFzMJ9AwDAnzioKNDYuPctc13V61X6MBhNFjrxVHq0Q\nW0vGps1VVUWZ8bfZZDIRj8cB8Hq9vPHGG7znPe/h7//+73n55Zf52c9+lqmhCCFWmabpNHcE+Pwn\n6/jt9xRw5IgDVV3ZMYeCw0QmRvmV3/nfFNx3BM+RO1jxQYXYojJ2560oCoFAYPrPmqZhNidP53a7\nqayspLa2FoDDhw9z/vx5brvttpTH83gcmM2mTA13UyoocK73EDYsuTaprca16RrwMdCfxUCvHUgm\npQ0PO6leQRXTS4GLFA8MoXQk82PMrS0UDHdD9aEVj3ep5HuTmlyb1Nbj2mQseB84cIDnn3+ee++9\nlzNnzlBfXz/93I4dOwgEAnR1dVFZWclrr73Gu971rgWP5/UGMzXUTamgwMnIiH+9h7EhybVJbbWu\nzdnLQ3jyw9TWxrlyxUxdXYLCwiAjI+kdLxQP0T7cR351A/G6+mvlTwsrYI3+v5TvTWpybVLL9LVJ\n9YtBxoL3XXfdxUsvvcRDDz2EruscP36ckydPEgwGOXbsGJ/73Of42Mc+hq7r3Hzzzdxxxx2ZGooQ\nYhWFInGGJ0KUFtn4j/8IpVeI5To9/n7QdUqLduI98QNsp5qI3HlEEtaESCFjwdtoNPLZz3521mNT\n0+QAt912G0899VSmTi+EyJD2fh+6rlPgdKVXiOU6mq7R7e/FZDRTSjaeo3dK4xEhFiFFWoQQSxaK\nxOkc9GG3mlHHnStuPgLQpw4QiUcoV0qwtbRK4xEhlkCCtxBiyS52jhOLazRUuNm9S19R8xFI3nW3\neK9gMpqNJ48BAAAgAElEQVSoyqmQxiNCLJHUNhdCLEhVk+VOyysj9I4ki7JUFTsxGNIrxDLTQGCI\ncDxMpWsHiiUbLMiatxBLIMFbCJGSqsKRI8l17R2VFj7+OQON9dcakCy3EMtMuq7T6m3HYDBQk1M1\nfULP0ftkzVuIRci0uRAipZkNRnq6rEwMK5QWZK/KsUdCowRiAcqUEhyWZCtRc/MlWfMWYgkkeAsh\nUprZYKS4LMzh22wYZ/bXTtPUXTdAlati+nFZ8xZiaWTaXAiRkqLAD38Y4Nv/PkpxeYj6yvJVOe5I\naJSJyCTF2UXk2FyzTuhtegFz86Vk4JYpcyHmJXfeQogFDY6HiMQSlBdkYzGv/J8MXddp779A/vkW\n6q1Fc1+gKMQbD0rgFmIBcucthEhJVXV+/aibvp4iamvjPPtsaMUx1TvWy+GHP4i7q4943eOSlCZE\nGuTOWwiR0k9fidHXYwPgyhVz2oVYZhp9/ce4u/oASUoTIl0SvIUQ89J1HT1rlOKyMJB+IZaZRkPj\ndJQ68Vcnk9QkKU2I9Mi0uRBiXoPjQSKJMH/x1QFGO4uX33xEVecknl2Z6CDuyGLomf8i3tEnSWlC\npEmCtxBiXlf6fIRDRv78T3ZMt/1ccvMRVcVz5I5ZxVZ8Vp3R0Bh5Wbnk5JYSzy3N+GcQYquSaXMh\nxBxqKMboZIigN4crV5K/4y+n+ch8xVY6JrsBqM6pzMyghdhGJHgLIeboHvID8NZD1rSaj1xfbCWw\ns5p+dYBsSzaFWfmZGbQQ28iC0+ZDQ0MUFc2zD1MIsWVpuk73kIrFbKR2R1Z6zUeuK7bSFulD0zVq\nciqn66ILIdK34J33Bz7wgemfv/Wtb2V8MEKI9TfiDRGOxikrUDCbVj45p+kJ+vz92Mw2yp2yzi3E\naljwb6au69M/nzx5MuODEUKsv45BHwCVRc7prmL33JPNkSMOVHWJB7masOa55x3k3H07uuqjXCnF\naJCVOiFWw4J/k2ZOb80M5EKIrUkNxRgcC5LrsuNWrLO6iqWbsGa/0o6no5cK5+rURRdCLCNhTdap\nhNj62vuTd901JS4MBsOsrmLpJqxNVJaRdcMt020/hRArt2DCWmtrK+94xzuAZPLa1M+6rmMwGHju\nuecyP0IhRMapKly4aKDbH8DlNFOan+zZrSikn7B24gf0/9vfcOlgPbeU7Mnc4IXYhhYM3k1NTWs1\nDiHEOpla125tNVFcVsu3nxjFaLw206Yo0Ni4zLKoqor7/nspaGulpnoH4efuA9sqD1yIbWzBafOy\nsjLKysoIBAK8+eabtLa2omna9ONCiM1v5rr2YJ+dqM+94mOamy9haWsFwNnRI81HhFhlC955j42N\n8eEPf5jW1lYqK5P7Mzs6Oti/fz9f+tKXcLlcazVOIUSGNDRoVNXE6Ww3U1EVY8/ulSenxht24ava\ngauzh1hdnTQfEWKVLRi8//RP/5TGxkYef/xxLBYLANFolK985SscP36cxx57bE0GKYTInOxsnT8+\n3s5PX7TzB7+VjaJYV3zMIWOY8197lBteb6fw135Hmo8IscoWDN7Nzc18+ctfnvWY1Wrlox/9KL/6\nq7+a0YEJIdZG72CERz9WwWCfnZ89u4zmIwu40need37o07g7+4h/+9/wNr0gAVyIVbTgmrfNNn+G\nicFgwGiUYgtCbAU//XmMwT47sLy93KkEY0FMly7g7uwDrjUmEUKsniUXaVnOc0KIzSGe0LA6vZSW\nR4Dl7eVOpcffz0TNDsK1Nclz1NXLmrcQq2zJ+7xn0nWdkZGRjA1KCLE2+kYCmCxxvvWdYfRg7vL2\ncs8jGAvS4evG5MzB+18vYG9pTQZumTIXYlUtus97YmKCRCJBXl4eAK+88go7d+6c/rMQYnNQVWhv\nh8LCa7G0Y9CHwWBgd41Clm1ld9wA7ZNdJLQ4ewv2YTYs+M+LEGIFFpw2n5yc5Pd///eZmJiY3tvd\n1dXFhz70Ifx+/1qNUQixQlOFWG69lekGIxNqhAl/hKLcLLJsKw+0CS1BvzqY7B5mUKYbk3iO3MHS\nO5oIIZZiweD953/+53zpS1/i7W9/+/RjH/nIR2SbmBCbzHwNRjoHk7+AVxWvTr2GXrWfmBajXCnF\n0tw83ZhEEtaEWH0LBm+fz8ehQ4fmPH748GG8Xm/GBiWEWF3XNxjZWRend1jFYTNT6Fl5wxBN12ib\n6MBkNFPlqpjVmEQS1oRYfQvOlcXjcTRNm7MtTNM0YrFYRgcmhFg9igInTgR55RUnhw4F8QZV4gmN\nuvIcjCvZOaKqmJsv0VPuIRwPU+nagd1sA8WGt+kFzM2XJGFNiAxY8M774MGDfPWrX53z+Ne//nX2\n7duXsUEJIVaXqsLRow5+93eT/73UrmI0GKgocq7ooFPr2tW/8muYQ2FqciqvPa8oxBsPSuAWIgMW\nvPP+6Ec/yvvf/35OnjzJDTfcgK7rXLx4kdzcXL7xjW+s1RiFECt0/Zr3pUtGfuG2lSWqmZsvTa9r\nOzu6qe7z4djrWJXxCiEWtuDfXEVR+M53vsPLL7/MpUuXMBqN/MZv/Aa33HLLWo1PCLEKpta8W1tN\nlFdEKd0Rprq4cEXHnFrXNre2MFFZRu7Nb1/8TUKIVbHor90Gg4HbbruN2267bS3GI4TIAEWBpqYg\nbR1WLg+0UFZsXXmimqIw8sNTnH3xCfy1Vbw9v3x1BiuEWJQUKBdiG+kdTu63ri3NWZUSxx0T3cQT\nccqVMowG+edEiLUiJZCE2AZUFe6+20Fbm5PScoX7Xoys+JiRyTH2PnCMnM4+4nV1eJt+LMlpQqwR\n+VVZiG2gudlIW1syYa2/10ZLs2nFxxw6/QI5053DWqUQixBrSIK3ENtAQ4NG2Y7k3XbtzpV3DtN0\njSslDiarkuvcUohFiLUl0+ZCbAORRJj/+SfdDHUV85u/bl3x7PZQcISgzcSb//A33Ph6O5E7j8iU\nuRBrSIK3ENvA5Q6VL/1JLYN9dv7ziQRNTcG0Y62u67R627GEwrzl9z6Jta2NeF093qYXJIALsUZk\n2lyILS4YjvPq63EG++zAtcYk6RoPe/FH/dQOBLC2tQHSfESItSbBW4gtrmfYT3F5mKrqZD+CurqV\nrXlfmewEwLP/sDQfEWKdyLS5EFuYpul0DfrJVqCpKYB33E1hYfpT5mo0wEhoDLcth9z8cmk+IsQ6\nkTtvIbaw7mE/wUicqmInFnOa28NUFfPpV0FVuTzeArpOrbs6+Zw0HxFiXUjwFmKL0nWdzkE/RoOB\nEncOR444uPVWOHLEgaou8SAzOofl3P12xka7ybV7KHIUZHTsQoiFSfAWYosa84WZ8EcoynXQ1WGd\n1VVsqQlrMzuHWdvacLf3UOuuWpXSqkKI9GUseGuaxqOPPsqxY8d45JFH6Orqmvd1n/rUp/jiF7+Y\nqWEIsW11DfoBqC1zTXcVg+UlrE11DgOYqCojvmsPBVn5mRmwEGLJMpawdurUKaLRKE8++SRnzpzh\nsccem9MD/IknnqClpYWDBw9mahhCbEuxuEb/aAAly0Key47BACdOBHnlFSeHDi0jYU1R8J74AaP/\n8ThnD1Sxq3S33HULsQFkLHifPn2aw4cPA7B//37Onz8/6/nXX3+ds2fPcuzYMdrb2zM1DCG2pYGx\nAAlNp7xAwWAwoKpw9KiD1laoq3MsvUiLquK+/14K2lopqyon/KOXMz52IcTiMha8VVVFmfGvg8lk\nIh6PYzabGR4e5mtf+xpf/epXeeaZZ5Z0PI/HgTndbNktqqDAud5D2LC287XRdZ3TbWNkZ9u4eU8x\nisNKezu0tiafb201MTzspLp6CQdrvwhtyTe6OntxDfdC9aHMDX6dbefvzWLk2qS2HtcmY8FbURQC\ngcD0nzVNw2xOnu6HP/whXq+X97///YyMjBAOh6mpqeHo0aMpj+f1BjM11E2poMDJyIh/vYexIW33\nazPkDdIzMEl5gUIoECEUiFBYmLzjbm01UVeXoLAwyMjI4sdKFJSSVVVOTmdvsgRqYQVs0Wu73b83\nC5Frk1qmr02qXwwyFrwPHDjA888/z7333suZM2eor6+ffu69730v733vewE4ceIE7e3tCwZuIcTS\nqCr81/MxLIqRmlLX9OOKAk1NQYaHncsq0tJPgJav/QmNZ3px/8p7ZD+3EBtExoL3XXfdxUsvvcRD\nDz2EruscP36ckydPEgwGOXbsWKZOK8S2papw511ZtF9xUrqjgF/+cWTW84oC1dUs6Y57Sv/QFd75\noU/j7uwj/vg/S/MRITaIjAVvo9HIZz/72VmP1dbWznmd3HELsTqam420X0n+le7vsdHcHKexMf0a\n5r6oHy6ew93ZB1xrPhJvlN0hQqw3KdIixBaxsy5OSXkYWHnzEYC2iQ4manYQvvpLtzQfEWLjkMYk\nQmwRk6EA//uxbiyxAo7cnr2i2e1ALMhAYAiXpwj/sy8Sar4szUeE2EDkzluILUDXddoHfBgMBopz\ns1Z8vI7JLtB1anIqASnKIsRGI3feQmwB474Ig8MxvvDHDfR2W6mrSyy9EMt1ookovWo/WZYsSsnG\nc+QOzK0tya1ikrAmxIYgd95CbAEdAz76e+z0dluB5TUfuV6nr4eElqDaVYGluXm6MclUwpoQYv1J\n8BZik4tEE/SPBWhoSKTVfGSmhJagy9eDxWRhh7NsVmMSSVgTYuOQaXMhNhlVTW4La2jQUBRo7ZtA\n03T21TppagrOem65etV+ookote5qzEbzdGMS26kmIncekSlzITYICd5CbCKqCkeOXCtz+vQzKj3D\nKlaLiapiJ0Yjae/t1nSN9skujAYjVa6K6RN6jt4na95CbDAybS7EJtLcbKS1Ndmgp7XVxHM/DRGJ\nJqgpcWE0riwrfCAwRDAWpNxZit1sA8DcfEnWvIXYgCR4C7GJNDRo0+vaO3cmMGSNYzEbqS3LWdFx\nE1qCZm8bBoOB2pyq6cdlzVuIjUmmzYXYRKYajDQ3G7E4J2gfilFb6sFiXtnv4a0T7YRiIWrd1Tgs\njlkn9Da9kCyLKkVahNgwJHgLsQklNJ2efh8W2+zuYekIxcO0T3aSZbaz072UJt9CiPUmwVuITWRm\nwlpxWTXf+s4wVotpRcfsnOxG13XqPLXJDPPrTihFWoTYeGTNW4hNZGbC2mCfnbjfs6LjxbQ43f5e\nbGYbpdnFc56XhDUhNiYJ3kJsIg0NGlXVMQAqqqLs27uy43VMdhHX4lQ4yzEZ597BS8KaEBuTTJsL\nsYlkZ+v8rz9r5+WXsvjD33WiKCv7KzwUHElmmJvzMJ9+dW5SmiSsCbEhSfAWYhNp6wrymU9UMthn\n57+fTb/5CIA/quKL+CjGQf4770y9rq0oxBsPrsr4hRCrQ6bNhdgkdF3nRy+FGOyzAytrPgJX234C\ntf0BWdcWYpOR4C3EJhGMxMkpUCmviALpNx+B5F13j9qP06qQs/82WdcWYpORaXMhNom+kQD2LI1/\nfHKU8ERO2s1HAC6Pt4Ku05Bbh8HhknVtITYZCd5CbAKartM54MNsMlKWn82ViTQOoqrQfpFxl5Ph\n4Ai5WbkUZuUnn5N1bSE2FZk2F2ITGBoPEozEyVOc3Hevwj33ZHPkiANVXeIBrhZb4dZbKb3vnZiD\nIXbn1mEwrKyZiRBifUjwFmIT6BzwAxD1uWd1FVtqwtrMYivOjh52DgZx21bWzEQIsX4keAuxwXn9\nEYa8QfJcdhr3m6a7ii0nYW1msZWJqjJKbrkzY+MVQmSerHkLscGoarIM6lRC2uVuLwANlZ5ZXcWW\nlbCmKJz7h28Sf/YEsV+8h3p3QeY+gBAi4yR4C7GBzGw8UleX4F9OeBkaD5KXY6cgJ7m/W1GgsXF5\nW8Qik2PUvvsRcjp7if3jD5n4rx9LVrkQm5hMmwuxgcxsPNLaauLZF4MA1O9wryi5rOuVH5LT2QuA\npa1VCrEIsclJ8BZiA2lo0KbXtKtr4thzJilwZ1HkcaR9zNHQGB2lCv7qCkAKsQixFci0uRDr4Pp1\n7SlTa9qXLxsZDHWjGXT2VuemfR5d12n2thF3ZDH81L/jfOMNvIdulylzITY5ufMWYo1NrWun2qut\nKFBRqxInSlmBgluxpX2u4eAIE+FJygwKlQ89DL/7u3iO3sfSN4gLITYiCd5CrLHr17Xn26vd2jsJ\nQE2pK+3zaLpGs7cNDAb2DMWl+YgQW4gEbyHW2Mx17fn2ag+NBxmZCFHoycLjXMld9yj+qEqZUoJ1\n3wFpPiLEFiJr3kKssYX2auu6zoXOcYwGA7sr01/rjiaiXBpvwWAwUO2qBJuCt+kFCoa78RZWyJq3\nEJuc3HkLsYGMTobxBaIU5zlWdNd9buQCwViQSlcFOTbnKo5QCLERSPAWYo0tlLDWNZisYV5bmn7d\n8dHQGEPBEVw2F7tz66ZPOtWYxHPkDklYE2KTk+AtxBpLlbA2NhmmbzRATraVXFd6d92arnFpPJmY\ndkP+boyG5LFnNiaRhDUhNj8J3kKssfkS1nRd52LnOLquc0NtXtrV1Dp9PfgifsqdpbO6hs1sTCIJ\na0JsfpKwJsQaUxQ4cSLIqVNm7rwzjqJA/2iQMV+Y4lwH+TlZaR03HI/Q4r2CxWRhd279nJN6T/yA\ngld+LEVahNgCJHgLscZUFY4evdZ85AdPq1zoGMdgMKyomtrF8WYSWpzd+buxmqxzTuo5eh+0tuCp\nq8fb9IIEcCE2MZk2F2KNXb/m/dxPggTCMWpLXTgd1kXePT9veIIBdRC3LYcdzrI5z8uatxBbiwRv\nIdbY9WveJmUCq8VEQ4UnrePpus75sUtgMNCQWzedpDaTrHkLsbXItLkQa2xmkZacfJXz3VHK8l1Y\nzOn9Lj0YHMYX8VOmlJCflWLaXZEiLUJsJXLnLUSGqCqcPm2cd0u1osCNN8W4MjSK0WCguiS9Gua6\nrtPqbQeDgZ2eGlBVzKdfnX8ft6LAoUMSuIXYAiR4C5EBi3UOA2jv9xGKxKnb4caVnd5ad4/ahz/q\npzS7GCWi4zlyB5573iGFWITY4iR4C5EBi3UOC4ZjtPZOYrOY2FmWXjW1sdA4F0absRgt7MrdKUlp\nQmwjEryFyIDFOodd7p4gntDYVelJa61b0zUujF1GQ+PmwhvJMmdJUpoQ24gkrAmRAfMVYpkyNhmm\ne8iPK9tKZXF6TUO6/b3T7T4LHHnTJ/We+AG2U01E7jwia9tCbGESvIXIgOsLsTQ1BVEU0DSdc+1j\nANxUm48xjTKoaizA5fFWLCYLu6Yaj1w9qefofZhbW4hLIRYhtjSZNhciA1KteXcO+plUI5TmZ5OX\nY1/2cTVd49zIBRJagn15u7Gbrx1D1ryF2D4yFrw1TePRRx/l2LFjPPLII3R1dc16/vvf/z4PPvgg\nDz30EI8++iiapqU4khCbz3xr3glNo613ApPRwI21eWkdt9PXgzc8QYlSTKlSPOs5WfMWYvvIWPA+\ndeoU0WiUJ598ko997GM89thj08+Fw2G+/OUv8+1vf5snnngCVVV5/vnnMzUUIdbcVCGWZ54JTE+Z\ndw+pBCNxqktc2K3LX7FSYwGax9uwmqzszds170m9TS/gfeY5mTIXYovLWPA+ffo0hw8fBmD//v2c\nP39++jmr1coTTzxBVlaye1I8HsdmS69/sRDrabFCLI2NGooCsXiCi53jmExGdpYvf2uYrus0j7eh\n6Qn25u3Cdn3jESHEtpKx4K2qKsqM3/xNJhPxeDx5UqOR/Px8AP7xH/+RYDDIW9/61kwNRYiMWEoh\nFkgG3gsdXmJxjYYd7rTuuvvUAQYDQ7jtOZRkF6UckBRpEWJ7yFi2uaIoBAKB6T9rmobZbJ7157/4\ni7+go6ODr3zlKxgWybr1eByYzaZMDXdTKihIb5vRdrAW16a9HVpbkz+3tpoYHnZSXT33dW29E4z4\nI5QVu3jLjWXL3tcdiUfpGu0kx5nNnTtvQ7FmpxjQRZiRsFYw3A3Vh+a8TL43qcm1SU2uTWrrcW0y\nFrwPHDjA888/z7333suZM2eor6+f9fyjjz6K1Wrl61//Okbj4v+Yeb3BTA11UyoocDIy4l/vYWxI\na3VtCguhru7adrDCwiAjI7NfE47G+enrvWg67N5dyIQ3MP/BFnBm+E0mVJXdeQ2EJjVCpPhshRV4\n6uqvbRUrrIDrroN8b1KTa5OaXJvUMn1tUv1ikLHgfdddd/HSSy/x0EMPoes6x48f5+TJkwSDQfbt\n28dTTz3FLbfcwm/+5m8C8N73vpe77rorU8MRYtUtVIhlyvn2cWJxjZt25qNkWZZ9jrGQlz51gByb\niyrXjuSDqoq5+VIym3zmSa8mrM37nBBiS8lY8DYajXz2s5+d9Vhtbe30z5cvX87UqYVYE6kKsUzp\nGPDRO6KS67JTlUYltZgW59zoBQD25u1K9um+uq6dshCLohBvPLjCTybExvH00yfp6urkgx/8w/Ue\nyixT43r00T9el/NLkRYh0rRQ85HB8SBn20Yxm4wcqC9YNKdjPm+OXiQYC1KTU4XH7gakEIsQIknK\nowqRpqlCLFN33lPNRzRN50LHOAaDgUN7itKaLh8OjjCgDuKyuaj3XJuxmirEMnXnLYVYRDrOd4zR\nP7r0PCJFsaGqkQVfU5rvYF/1wsWHnn76JC+99CKRSISxsVEefPBhfvKTH9PRcYUPfeiPGB4e4sc/\nfp5QKITb7eb48S/Oev9TTz3Bs882YTAYeMc77ubBBx9Kea7jxz9Db28PkUiEBx98iHe+8z6ef/4U\nJ078K/F4HIPBwPHjX6S9vY1/+qfHsVgsDA8P8au/+gCvv/4abW0tPPjgw9x//7t4z3se5MYb99PR\n0Y7L5eLTnz6e9rhWiwRvIdKUas27c9CPPxilqsRFgTtr2ceNJWKcG70IBgM35u/FZJyxy0Kaj4hN\nLhgM8pd/+TVOnWriySe/y9/8zeO88cZpnnzyOzQ07ObLX04mMX/0o/+DS5cuTL+vo6Od5557lq9/\n/f8D4CMf+RCHDt1KRUXVPOcIcObM63zzm49jMBj4+c9fBqCnp5u/+Iu/wm6384UvfI6f//xn5OcX\nMDw8zOOPf5fLly/x6KOf5Mkn/4ORkWH++I8/zv33v4twOMzdd9/D/v0H+PrX/4r//M9/w+VK1mto\na2tb8rhWkwRvIdI035q30RzjcrcXi9nI7gpPWsdt9rYRiUfY6a4hx3bdWrk0HxGrYF913qJ3yTOt\nZkZ1XV0DAIripKqqGoPBgNPpJBaLY7FY+PSn/x+ysrIYHh6erg0C0N5+haGhQf7ojz4IgN/vp6en\nZ94g6XBk8+EPf4wvfOFzBIMB7r77HgA8nlz+7M/+BIfDQVdXJ/v23QhATU0tZrMZp9NJaWkZFosF\np9NFNJqcbTCbzezffwCAfftu4uWXX5p+b0tLy5LHtZokeAuRpuvXvC9cBJ9hkGgswY21+disy69L\nMBGZpMffh8PiYKd77qbx+da8JUFNbCap8j/i8RgvvvgCf/u3/0A4HOZ973vPrOcrKiqpqqrhS1/6\nawwGA08++R1qa+vmPdbo6CjNzZf4/Oe/SCQS4YEH7uP223+Jv/u7b/Jv//Z9IHmHrOv61TEtPOZ4\nPE5rawt1dfW8+eZZqquvLWXV1NQseVyrSYK3EGm6fs07bBomEIyxszyHmlLXso8XS8R4ffgcGjp7\n83bNni6/Sta8xVZlMpnIysrigx/8HQDy8vIZHb1WOKGurp5bbjnIH/zB+4hGY+zevZeCgoJ5j5WX\nl8f4+Bgf+MDvYDQaeeih95Cdnc0NN9zEBz7w25hMybvs0dERSkpKlzS+73znHxgaGqSoqJjf+70P\ncupUEwC7du1a8rhWk0Gf+tVjg5MCAbNJ0YTU1vLaqGryDtyYPU7XyDh5LjtvvaEEo3H52eWvDb7B\nUHCEOk8N9Z6dC5403b3c8r1JTa5Natv92rzrXf8X3/nOU/P24NhyRVqE2C68/jBj45N4csy8ZXdR\nWoF7MDDMUHAEtz2Hne6aDIxSiK3npz/9MU888Z05jz/44MPcfvsvrsOI1o4EbyHSpKpw190OrrQ5\nKS7L5uln1LTWudVogHOjFzAajNyYvzdZjGWBky5YpEWIbeRtb7udt73t9oyf56mnTmb8HMslRVqE\nSNPFSwautCWD9WCfnaG+5W8L03Wdc6MXiCVi7Mvfg9O6cCCWIi1CCJDgLUTaDI4xisvCALOKtCyV\nrutcHG/GG56gOLuIHc7FE2emEtYASVgTYhuTaXMhFjGVlNbQoE3PUI9Nhun3TvK5vw5SZN/Bnt36\nsmevO3xddE5247Qq3JC/Z9YJUyakSfMRIQQSvIVYkKrCkSOzC7HYszReb01uYfmFG/PJy1n+ho1+\ndZBLYy3YzDYOFt+M1WSZPuGia9rSfESIbU+mzYVYwHzNRy52jhMIxagtc5GXY1/2MUdD45wduYDZ\naOZg0QGyzNfWymVNW4jZnn76JN/4xlfWexgbjgRvIRYwVYgFkuvaDo+P9n4frmwru9IofzoaGuPV\nwdfR0ThQeNOc8qeypi02ElWF06eNqOp6j0RcT6bNhViAokBTU5DmZiMOj4+W/hFsFhMHdxViNi3v\nd9+xkJfXhs4AcEvRfgoc89SWljVtsUHMXDLatQuefnrlX8e17Cq21UnwFoL5k9KmKArkl03yRusI\nVouJW/cW43RYl3X8YCzE68Nn0XWdA0U3UejIfPlEIVZi5pLR5cvJPzc2Lm9HxXzWoqvYdiDBW2x7\n8yWlzQzgXn+Es1dGsVpMvO3GElzLDNwJLcEbI+eIJqLsy99N0UKBW4qwiA1iZu3+XbtY9lbIVNai\nq9h2IMFbbHvzJaVN3WF4/RFevjCIpukc2F2w7MAdioc5M/wmE+FJypQSKl07Fny9dA0TG8XMJaO3\nvS2bUGh1jrsWXcW2AwneYtu7vjvY1B3GZCDKT98cIJHQ2F+XT3GuY1nHjSVivDZ0Bl/ER6GjYPZe\n7jDRFpwAABv2SURBVBSka5jYSBQFGhuTS0mrFbxTWc2uYtuBdBXbpLZ7l5+FpLo2C61rX/+c1x/h\nlYtDhKNxDtQXUFE0f2efVMLxCK8OvYEv4qNUKWF/wb7ZdxwLFWJZQdewxcj3JjW5NqnJtUlNuooJ\nkUGLrWtP3WEAjPvC/PTNATRN54bavDQCd5iXB08TiAYoUYq5qWDvnMC94Lq2FGERQixC9nmLbWG+\nde35hCJxXr08jKbpHNxVSG1pzrLOE0lEeXkgGbhrcqq4ueCGOV3CpBCLEGKlJHiLbeH6YivzZc6q\noRg/OTdAKBJnT1UuZQXLm7KOJqL8fPB1ArFk4N6VWzdvco4UYhFCrJRMm4ttQVHgxIkgp06ZufPO\n+Nxl5lCMn54bIByNs7vSQ135Eu+4r65PB3ZW87K/BTWqssNZljJwTw1GCrEIIVZCgrfYFlQVjh6d\nf807EkvwswuDhKPJO+76He4lH3Rq7dpUtYPwt45TXbKL3bn1qQP3FFnXFkKsgEybi20h1Zq3Pxjl\nxbP9BEIx6ne4lx64mb127ersYd9IYmmBWwghVkiCt9gW5lvzVkMxXr4wRCAUo67cze7K5TUa6Sxz\nMVFVBkC4toayg3dL4BZiAfF4nD/8w9/nAx/4HXw+36od91d+5ciqHWs1ZXJcMm0utoWZ1aIaGjQS\nRHjp7CDRWIKGCs+yAreu63T5e7gQ7KL1H/4Pt07YybrhoKxdC7GI0dFRAoEA3/rWP633UDY9Cd5i\n25lQI5ztGCAW17hpZz5Vxc4lF0ZJ1il/k6HAMFaTlcbaRrKsy9sHLsR6uzTWwkBwaMmvV8ZtqIHI\ngq8pcRSxO69+wdd88YvH6e3t4fjxzxAMBpicnATgf/7Pj1Nbu5Njx36NfftupKenm8bGgwQCKpcu\nXaCiopJPfepPaW9v4ytf+Us0TWNiYuL/b+/e46Ks08aPf2buGRhgOIwHwBMI5nnDA7sW1lqYZhiL\nppVp2XZ4+bT1mE/Wk+DmofWQppaZmulumz5uLzvp9mjaOc1+ecwedXWTEs+EoAjBDDDMzP39/YFM\noDOKKQzo9X695sUMc899X3OJXPO97y/fi//+7yyuv76Hd/85OQd55ZW5KKWIjIxk4sSpWP38f/7q\nqy/5xz9WYDKZaNGiJX/5ywucPn2KefNmU1lZ1fVszJgn6NfvVh58cAQ9evQmJ+dH4uPbY7M1Y8+e\n/8NsNrN8+d95442lHDt2hKKiIkpLS3jqqQn06NHzV8VVV3LaXFwTqhdpSUsL487BVux2A8mdo0lo\nFYHB4cA26FZsabdhG3Qr/poXu3Q3O05+R76jAJslipRWvyNCCrcQdfbMM1m0b59AVJSN5OQ+LFy4\nlAkTnmPevFkAnDyZx5gxT/Daa3/j/fff4a677mHZshXs3buH0tJSDh8+xNix41mwYAn33/9HNmxY\nV2v/L744g6efzmTRomWkpNzEW2+t8BvLZ599wqhRo1my5A369r0Zh8PB0aNHuO+++3nlldeYMOE5\n1qx5F6jqhDZw4CBee+1v7Nnzf1x/fRKLF/8Vt9vNwYMHAQgOtvDqq68zefJ0Xn75xV8dV13JyFtc\nE2pOWMs7YcGqYmgXbQHq1gykzFXOnlP7OFNRRGxYND1bXo9m1Br2TQhxhXRt3umio+SarvQSoIcO\nHeS7777liy8+BaC0tOr6d0REJLGxsQCEhISQkJAIQFiYlcpKJy1aRLN8+d8IDg6mrKyMsLCwWvs9\nevQwL700GwCPx03btnF+Y3jyyfGsXLmc1avfJT6+Pf363Urz5i1YseIN1q//X8BQq6tZ585dgOpu\naFVxhYeH43RWnZFIPvs7IzGxA2fOFP7quOpKire46ulKoSyFxLbROJlrISHRzS19Ld7nL9QMRFc6\nR0qOkX0mB115iAltSa/opPNWTRNC1F18fHtuv70bt99+B0VFZ1i37gPAf8exagsWzGXKlBm0b5/A\nG28sJS/vp1rPx8XFM2nSNGJjY9m7dzeFhaf97mvt2n/y6KP/gc3WjDlzZrJ58ya+/vor/vCHoaSk\n3MT69Wv56KMPa7ziwrFlZ3/PoEGDOXTo4HkNUy4lrrqS4i2uKnY7HDoE0dFVl64rKt3syj7FqeJy\nZi5wEGFsRXJPrfZlbauVojXrCf78E5wDBnmveZe5ytlzej9nys8QpAXRpVlX2lpbyYxyIS7Tgw8+\nwuzZ01m7dg1lZQ4eeeQ/6vS6229PY/LkTMLDI2jZMpqffy6u9fwzz0xkxowpeDweDAYDWVmT/e6r\na9fuTJjwFKGhYYSEhNC3782YTCYWL17AP/6xnJYtoykuLvb7+nP98EM2//Vfj1NeXs6ECZN+dVx1\nJV3Fmijp8nO+c5uPLPuffI4UFOJy68TYQunduSXBZh+nus9pFFLw0WccdJ3iSMkxdKUTHdqS37To\nQogppOHf1BUmPzf+SW78k9z417JlOLNnz6N58+YMHXp3vezfFxl5i6vGuQuxfLLJQedueGeU+xsx\nn3vNe+/mdzjZLRGLyUJn23W0kdG2EE2Sy+Vi/Pj/PO/7cXHxTJjwXAAiunKkeIurRufOOokd3BzK\nMRHbpoLu3RV9k1oTHhp0wdfVvOZd3L4NZxLa0MnWgYTIeExG+S8iRFNlNptZtGhZvR/n0Ucfq/dj\nnEt+M4mrgtujc/R0MU9PK6XwlJWkboqUHrEY6zBiLjZ72Pk/89H376GsYwd+m5CCzVL3ZVKFEKKh\nSfEWjc9FFkyx2/GulBYWpjiaX8oPx4opc7qJjDSRcVtzLBeZDK4rnTxHPidKf+J0eSEYoGWfvtzQ\nvCuh5qZ/bVsIcXWT4i0al3MmjxV9sqlWAa85KS0h0c3zLx3EqTsxGg10bBdF53ZRtIrxP7lGKUV+\n2Sl+LM6hxFm1jc0SRSdbB1qENG+IdyiEEJdNirdoVC62YMqBA79MSjt8yMSBbI2b+1rp1t5GmMXs\nd7+60vnJfpJDPx+htLJqBbXW1lZ0jEokzBwqE9KEEE2KFG/RqPhbMMXl1sk9bedkeQmxbRI4mWuh\nXXwlI//QjNiW/iekeXQPx0pzOfzzEcrdFRgMBtpYW9EhKoHwIGkkIkRDcrvdjB//n7hcLubMeYWI\niIgrst+MjEGsXfvJFdlXUyHFWwSEI99O3ufZtBrQmbCYGkXUaqXok03ea95lJgs/HjzNsfxSPLrC\naDDw+vI8dEczeiYZsVp9F+5Kj4ujJcc4UnKcSk8lmlGjfWQcCRHxck1biLo6O/+Em/tckd1JV7Er\nR4q3aHCOfDue3v1JcR0gx9wFx3df1irgFUEWclt1IjenhKLSUyilsASZ6NQqnHbR4YRafP/YKqU4\nU1HMweM/cPDkcTy6B7PRTEdbIvERcQRrF/6TMSFEDTXmn9ClC2z48rLb3jamrmJNnRRv0eDyPs8m\nxXUAgA6uA2z9PJs2d/cgv6iMn047OF1cga4UBoOBZuHBxMWE0zY6DM3oewp5ubucYyW55Np/otxd\nQWhYMBbNQpytDe3C22KWv9UW4pLVnH/CgQM+G/ZcqmeeyWLq1D8TFWWja9fu3HXX3Rw/fowXXvgL\nS5a8wcmTeSxY8DotWrQgLa0/y5YtZ/z4Cdx775BaXcU6dLiOTz/9mA0b1tUq3i++OIOJE6eQkJDI\nhx9+wFtvreCxx85fpOVqIL/VRINrNaAzOeYudHAd4KC5Cz/F2di/8zjVK/VGhQfTLtpKmxZhWILO\n/xHVlU5heRH5ZQWcKi+kzFUGgMloom14a5LiOkJZkExCE+Iy1Jx/QpcutRr2XK7G0FWsqZPiLRqM\nriuKSp2cdroofPddNm08iCupNRrQLDyYNi3DiI4K8bkiWrm7gp+dJRRVFJPryMPprmrDZzAYaB7S\njJjQlrS1tsasmWlpDedUuazDLMRlqTH/xHZzHyi/cm0wGkNXsaZOircAai98ct4loossmuKPy+2h\nqNRJicNFsd1J3pkyPB7d+7z5tuuIjQrhujaRNIv4pUWn01PJz84SSivtlFaWUnL2q/d1RjPxEe2I\nDYvGFhwlfbWFqC9Wa9WpcqsVruAH4sbQVaypk65iTdSV7PJzbjeuTz4p+6VGX2TRFKiaKOZy65SW\nuSiyOylxVFJU6qS0rLLWdmEhZqKjQmgZFUJ4mAmzSVGhOylzlWN32Sl2llBSWeodVVfTjCaigiNo\nbmlGZHAEzS22CxZs6YDkn+TGP8mNf5Ib/+o7N9JVTPh1bjeu7GwjyclVI+RzF005+f++pbBLEhVO\nD06Xm3KnB0eFC12v+gyolELHjdLchFkhNNRAULBCM+sYNDelHienypxUllbi63OjxWQhOrQlkcHh\nhAeFExEUTqgpRK5fCyFEDfVWvHVd5/nnnyc7O5ugoCBmzJhBfHy89/kvv/ySxYsXYzKZGD58OPfe\ne299hSL8UErh0RXxCW46dAgmJ8dEQqKbUFsJ/zrkpNzpxuWK4tY2CUTlHqaoTXu2GsIoP3YMDy50\n5cag6ZiDFGhuDJobj9FJcJARS5CGDtgBdODsYNpo0LCYgokKjsJiCsaiBRNiCiHUHEJUcKT8OZcQ\nQtRBvRXvzz//nMrKSt555x12797N7NmzWbJkCVDVY3XWrFm8//77hISEMHLkSPr370+LFi3qK5yA\nqB5ZeseXqvpL9Sj13O1BVwpdV97C6lE6Sj97X9fxKB1d6ZS6KzldaMetPHg8Hty6jkd5cHs8eJSO\nW3efvVU9rnS5qXC5ceke3O6q7Vy6B13pKBQjpynOnDER1czJ58c8KBQKHQyK7+dNpHVeLqXXxaGs\nBZg1AyGaEZNmqNW1SzNqhJmbE2qyYDFZsGgWgrQggjUzwWeLtNloklG0EEJcpnor3rt27eL3v/89\nAD179mTfvn3e53JycoiLiyMyMhKA5ORkdu7cSVpa2q86lq4U2/fn17rGWl0XzyuQv1RQH9vW3lid\nv6n3m+cXZN/7OJdSigJ1iApl55c9ect5rXvnHLkWs9mEy+W+4LF8MRgMaEYDRqMBzVxVfDWjgbAw\nA+HNDZg1DZPRhCXIREiQmSCTCc2gEdTtOmKMZoI0M8FaEMFaMOazj4O0ICyaRQqzEEI0kHor3na7\nvdbKNpqm4Xa7MZlM2O12wsN/uQgfFhaG3W6/4P5stlBMJt+TlHRdYQ3/GaVVLeJRq3wYqr9U3TEY\nqL1NjWLj7znD+Zt6v3vua37Zxsd+DVXF2+Cw4nBXLUJiOBuZwWDAYDBixIDRaMRoqCqsRqMBo8FY\nVXQNRu9jzWjAYDBgMmpoRiMmzYTJoGHSqu6bjSbMWtXNZDRiNpkIDwnCrJnO7t+IdvZmNGpVX88e\n52rgb5KHkNxciOTGP8mNf4HITb0Vb6vVisPh8D7WdR2TyeTzOYfDUauY+1JUVHbB56+Pj7qMaBtW\nEimXvY9fNcOxAjxU3apG9dWPXJcdT2MiM2P9k9z4J7nxT3LjX6Bmm/teb/IK6N27N5s3bwZg9+7d\ndOrUyftchw4dOHr0KMXFxVRWVvLtt9/Sq1ev+gpFCCGEuKrU28h74MCBfPPNN9x3330opXjhhRdY\nt24dZWVljBgxgqysLB599FGUUgwfPpyYmJj6CkUIIYS4qsgiLU2UnMbyT3Ljn+TGP8mNf5Ib/666\n0+ZCCCGEqB9NZuQthBBCiCoy8hZCCCGaGCneQgghRBMjxVsIIYRoYqR4CyGEEE2MFG8hhBCiiZHi\nLYQQQjQx9bbCmrgyKisrmThxIsePH8dqtTJlyhTCw8OZNGkSJSUleDwe5syZQ1xcXKBDbXC+crNg\nwQJOnz4NQG5uLj169GD+/PkBjjQwfOWnvLycqVOnomka7du3Z+bMmRiN195neF+5cTgcTJ06laCg\nILp27cpzzz13zeVmz549zJs3j5UrV3L06FGysrIwGAx07NiRqVOnYjQaeffdd3n77bcxmUw8/vjj\npKamBjrsBlGX3ACcOXOGkSNHsnbtWoKDg+svICUatZUrV6pJkyYppZTKyclRjzzyiMrMzFTr169X\nSim1detWtXHjxgBGGDi+clOtuLhYZWRkqPz8/ECFF3C+8vPEE0+oTZs2KaWUevrpp9UXX3wRyBAD\nxldu7rrrLrVr1y6llFIvv/yy+uCDDwIZYoNbtmyZSk9PV/fcc49SSqnHHntMbdu2TSml1OTJk9Wn\nn36qCgoKVHp6unI6naqkpMR7/2pXl9wopdTmzZvVkCFDVK9evVRFRUW9xnRtfaxsgg4ePEi/fv0A\nSExMJCcnh++++478/Hweeugh1q1bR58+fQIcZWD4yk21hQsX8sADDxAdHR2o8ALOV366du1KcXEx\nSikcDoe309+1xldu8vPz6d27N1DVWGnXrl2BDLHBxcXFsXDhQu/j/fv3e3+39OvXjy1btrB37156\n9epFUFAQ4eHhxMXFceDAgUCF3GDqkhsAo9HIm2++SVRU/Xe5lOLdyHXt2pWNGzeilGL37t3k5+eT\nm5tLREQEy5cvp1WrVvz1r38NdJgB4Ss3Ho+HwsJCtm7dyrBhwwIdYkD5yk9cXBwzZ84kLS2NwsJC\nbrjhhkCHGRC+ctO2bVt27NgBwMaNGykvLw9wlA1r0KBBtT7MKaUwGAwAhIWFUVpait1ur9W+OSws\nDLvd3uCxNrS65AbgpptuwmazNUhMUrwbueHDh2O1Whk1ahSfffYZ3bt3Jyoqiv79+wPQv39/9u3b\nF+AoA8NXbjRN4+OPPyY9PR1N0wIdYkD5ys+sWbN46623+Pjjjxk6dCizZ88OdJgB4S83S5cu5Y9/\n/CPNmzdvsF/CjVXN6/0Oh4OIiAisVisOh6PW92sW82uFr9w0eAwNfkRxSf71r3+RkpLCqlWruOOO\nO2jXrh3Jycl89dVXAOzcuZPrrrsuwFEGhq/cAGzdutV7SvRa5is/kZGRWK1WAKKjoykpKQlwlIHh\nKzdfffUV8+bNY8WKFRQXF3PTTTcFOsyA6tatG9u3bwdg8+bN/Pa3vyUpKYldu3bhdDopLS0lJyeH\nTp06BTjShucrNw3t2rzg1YTEx8ezYMECXn/9dcLDw5k5cyZut5tJkybx9ttvY7VaeemllwIdZkD4\nyg3A4cOHvYX8WuYrP8ePH2f8+PGYTCbMZjPTp08PdJgB4Ss3+/fv56GHHiIkJIQbbriBW265JdBh\nBlRmZiaTJ0/m5ZdfJjExkUGDBqFpGqNHj2bUqFEopRg/fnz9zqhupHzlpqFJVzEhhBCiiZHT5kII\nIUQTI8VbCCGEaGKkeAshhBBNjBRvIYQQoomR4i2EEEI0MVK8hbjCtm/fTq9evRgyZAgZGRmkpaWx\nZMmSS9rHiRMnvAvx1MXo0aMvNcwGtXfvXubOnVsv+7bb7Tz55JMopcjKyuLWW29lyJAh3tv8+fNx\nOByMHTsWj8dTLzEI0dDk77yFqAe/+c1vWLlyJVC1AtPgwYMZOHBgvS2oU72sZ2N18OBBCgsL62Xf\nixcv5t577/UuVzlu3DifS+OmpKTw9ttvc//999dLHEI0JCneQtSziooKNE3zLiO5e/duZs6cidPp\nxGazMW3aNOLj4/n3v//Nc889B0CXLl2AqlHlbbfdxhdffIHVauXEiRM89thjrF+/3rv/GTNmAHDP\nPffw3nvvsXnzZl599VXcbjdt27Zl+vTp2Gw2+vfvT1paGps2bULTNJ5++mn+/ve/c/ToUTIzMxk8\neLC3zeEPP/yA3W7n8ccfZ+jQoTgcDqZNm8aPP/6Ix+NhzJgxpKens2bNGv75z39SXFxMamoq6enp\nTJ8+nbKyMs6cOcPDDz/M0KFDefXVVykrK2PJkiXExMSwY8cO79Kso0ePZuzYsQDMnTsXXdfp2LEj\nU6ZM8XnMmux2O19++SXPPvvsRf8d7rzzTkaMGMGoUaO8hV6IJqtee5YJcQ3atm2b6tmzp8rIyFDp\n6ekqKSlJZWZmKl3XldPpVKmpqWrPnj1KKaU2bNighg0bppRSKj09XX3zzTdKKaUWLVqkUlNTlVJK\nTZgwQb333ntKKaUWLlyoli5det4xO3XqpJRSqrCwUGVkZKji4mKllFKrVq1Sf/7zn5VSSqWmpqrl\ny5crpZTKyspSI0eOVC6XS23fvl0NGTJEKaVUZmamevjhh1VlZaXKy8tTKSkpqqCgQM2dO1etWLFC\nKaVUaWmpuvPOO9WxY8fU6tWr1cCBA5XL5VJKKTVjxgy1ZcsWpZRSx44dUz179lRKKbV69WqVmZl5\n3n2llHrggQfUtm3b1LZt21RycrIqKSlRSim/x6zps88+U+PGjfM+zszMVLfccovKyMjw3kpLS73P\nDx06VH3//fcX+ycUotGTkbcQ9eDc0+Z/+tOfWLZsGampqURERJCUlARAWloaU6ZMITc3l4KCAvr2\n7QvAsGHDWL16NVDVRGPhwoXcfffdfPjhh6xYscLvcffs2UNeXh4PPvggALquExkZ6X2+es331q1b\nEx0djclkonXr1rXWOB82bBhms5nY2Fhva8wtW7ZQUVHhjamsrIwff/wRqFrnubrjUlZWFl9//TVL\nly4lOzubsrKyS8pbQkKC9wyFv2PWXPr2yJEjxMbG1tqHv9Pm1e/7yJEj3jMbQjRVUryFqGdhYWEM\nGDCALVu2+FwvWylFaGgoqsZKxTU7ov3ud7+joKCATz/9lLZt2xITE+P3WB6Ph969e/P6668D4HQ6\na3WBMpvN3vv+ennXPLau65hMJnRdZ+7cuXTv3h2A06dPExkZybp167BYLN7tn3rqKSIiIkhNTWXw\n4MG1Tu9XMxgMtd6ry+Xy3q+5L3/HrMloNF5S9ziTyVSrI5QQTZX8FAtRzzweDzt27KBbt24kJiZS\nXFzM3r17AdiwYQOtW7fGZrPRunVrNm3aBMCHH37ofb3BYGDo0KHMmDHD74hS0zTcbjc9evRg9+7d\nHD58GIDXXnuNOXPmXFK8H330EUopcnNz2bt3L8nJydx4442sWrUKgIKCAjIyMsjLyzvvtd988w3j\nxo1jwIAB7Ny50/v+q+MDsNls5OTkoJTi+PHjZGdn+4yjLseMi4vjp59+qvN7O3HiBHFxcXXeXojG\nSkbeQtSDffv2MWTIEADKy8u5/vrrGTNmDEFBQcyfP5/p06dTXl5OZGQk8+fPB6oma02cOJFXXnmF\nnj171trf4MGDefPNNxkwYIDP4912220MGTKENWvW8MILL/DUU0+h6zoxMTGX/CdaFRUVDB8+nMrK\nSqZNm4bNZmPs2LE8//zzpKen4/F4ePbZZ4mLi+Pbb7+t9donn3ySUaNGERERQUJCAm3atOHEiRMk\nJSWxaNEi5s2bx7hx41i9ejV33HEHCQkJJCcn+4zD3zFrSklJYdasWei6ftERdUlJCXa7XU6Zi6uC\ndBUTopHTdZ1Vq1Zx+PBhJk2aVK/HysrKok+fPn5H+I3RrFmzuPHGG0lNTb3gditWrMBkMsmfiomr\ngpw2F6KRGzt2LO+//z5PPPFEoENplKrzc6FxiMPhYOvWrYwYMaIBIxOi/sjIWwghhGhiZOQthBBC\nNDFSvIUQQogmRoq3EEII0cRI8RZCCCGaGCneQgghRBMjxVsIIYRoYv4/zvllJdsrbssAAAAASUVO\nRK5CYII=\n",
      "text/plain": [
       "<matplotlib.figure.Figure at 0x93727f0>"
=======
      "image/png": "iVBORw0KGgoAAAANSUhEUgAAAe8AAAFXCAYAAACLEMbVAAAABHNCSVQICAgIfAhkiAAAAAlwSFlz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\nxEjwFRIAAAAASUVORK5CYII=\n",
      "text/plain": [
       "<matplotlib.figure.Figure at 0xa11b128>"
>>>>>>> a6f0ba11fa4652acad0b11c9018f36edd41d65bd
      ]
     },
     "metadata": {},
     "output_type": "display_data"
    }
   ],
   "source": [
    "# Plot the CDFs and show the plot\n",
    "_ = plt.plot(x_theor_m, y_theor_m, alpha=0.5)\n",
    "_ = plt.plot(x_m, y_m, marker='.', linestyle='none', color='blue')\n",
    "_ = plt.plot(x_theor_f, y_theor_f, alpha=0.5)\n",
    "_ = plt.plot(x_f, y_f, marker='.', linestyle='none', color='red')\n",
    "plt.margins(0.02)\n",
    "plt.legend(('male_sample','male','female_sample', 'female'), loc='lower right')\n",
    "_ = plt.xlabel('Body temperature (F)')\n",
    "_ = plt.ylabel('CDF')\n",
    "plt.show()"
   ]
  },
  {
   "cell_type": "markdown",
   "metadata": {},
   "source": [
    "Female body temperature looks to be higher than the male body temperature "
   ]
  },
  {
   "cell_type": "markdown",
   "metadata": {},
   "source": [
    "In conclusion, the true population mean of body temperature is more like 98.2 F rather than generally accepted 98.6 F.\n",
    "\n",
    "In general, we should consider body temperature to be abnormal when it falls below 98.1 F or when it's over 98.4 F.\n",
    "\n",
    "Also, female body temperature is on average slightly hotter than the male body temperature (on average 0.29 F hotter)."
   ]
  }
 ],
 "metadata": {
  "kernelspec": {
   "display_name": "Python 3",
   "language": "python",
   "name": "python3"
  },
  "language_info": {
   "codemirror_mode": {
    "name": "ipython",
    "version": 3
   },
   "file_extension": ".py",
   "mimetype": "text/x-python",
   "name": "python",
   "nbconvert_exporter": "python",
   "pygments_lexer": "ipython3",
   "version": "3.6.1"
  }
 },
 "nbformat": 4,
 "nbformat_minor": 1
}
